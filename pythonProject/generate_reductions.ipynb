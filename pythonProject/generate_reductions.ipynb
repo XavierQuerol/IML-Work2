{
 "cells": [
  {
   "cell_type": "code",
   "execution_count": 1,
   "metadata": {},
   "outputs": [],
   "source": [
    "import pandas as pd\n",
    "import matplotlib.pyplot as plt\n",
    "\n",
    "from reductions import CNN_GCNN, EENTh, DROP\n",
    "\n",
    "from knn import callKNN\n",
    "from svm import callSVM"
   ]
  },
  {
   "cell_type": "code",
   "execution_count": 2,
   "metadata": {},
   "outputs": [],
   "source": [
    "def load_ds(name, num_folds=10):\n",
    "\n",
    "    folds_data = []\n",
    "\n",
    "    for fold in range(num_folds):\n",
    "\n",
    "        train_file = f'{name}_csv/{name}.fold.00000{fold}.train.csv'\n",
    "\n",
    "        df_train = pd.read_csv(train_file)\n",
    "\n",
    "        X_train = df_train.iloc[:, :-1]\n",
    "        y_train = df_train.iloc[:, -1]\n",
    "\n",
    "        folds_data.append((X_train, y_train,))\n",
    "\n",
    "    return folds_data     \n",
    "\n",
    "def load_ds_train_reductions(name, method, num_folds=10):\n",
    "\n",
    "    folds_data = []\n",
    "\n",
    "    for fold in range(num_folds):\n",
    "\n",
    "        train_file = f'{name}_csv/{name}.fold.00000{fold}_{method}.train.csv'\n",
    "        test_file = f'{name}_csv/{name}.fold.00000{fold}.test.csv'\n",
    "\n",
    "        df_train = pd.read_csv(train_file)\n",
    "        df_test = pd.read_csv(test_file)\n",
    "\n",
    "        X_train = df_train.iloc[:, :-1]\n",
    "        y_train = df_train.iloc[:, -1]\n",
    "        X_test = df_test.iloc[:, :-1]\n",
    "        y_test = df_test.iloc[:, -1]\n",
    "\n",
    "        folds_data.append((X_train, X_test, y_train, y_test))\n",
    "\n",
    "    return folds_data   "
   ]
  },
  {
   "cell_type": "code",
   "execution_count": 17,
   "metadata": {},
   "outputs": [],
   "source": [
    "def store_ds(name, fold, method, prototypes_X, prototypes_y, X_train, y_train):\n",
    "    X_train = pd.DataFrame(prototypes_X, columns = X_train.columns)\n",
    "    y_train = pd.Series(prototypes_y, name = y_train.name, dtype=int)\n",
    "    df = pd.concat((X_train, y_train), axis=1)\n",
    "    df.to_csv(f'{name}_csv/{name}.fold.00000{fold}_{method}.train.csv', index=False)"
   ]
  },
  {
   "cell_type": "code",
   "execution_count": 16,
   "metadata": {},
   "outputs": [],
   "source": [
    "def plot_grid(X_train, y_train, ax, title):\n",
    "    ax.scatter(X_train[y_train == 0][:, 0], X_train[y_train == 0][:, 1], color='blue', label='Class 0')\n",
    "    ax.scatter(X_train[y_train == 1][:, 0], X_train[y_train == 1][:, 1], color='red', label='Class 1')\n",
    "    ax.set_xlim([0, 1])\n",
    "    ax.set_ylim([0, 1])\n",
    "    ax.set_title(title)\n",
    "    ax.legend()\n"
   ]
  },
  {
   "cell_type": "code",
   "execution_count": 18,
   "metadata": {},
   "outputs": [],
   "source": [
    "fig, ax = plt.subplots(nrows=1, ncols=4, figsize=(16, 4))\n",
    "datasets = ['grid']#, 'sick']\n",
    "titles = ['Original', 'CNN', 'DROP', 'EENTh']\n",
    "\n",
    "# Loop through datasets and apply different methods\n",
    "for ds in datasets:\n",
    "    for i, (X_train, y_train) in enumerate(load_ds(ds)):\n",
    "\n",
    "        # Original dataset plot\n",
    "        if ds == 'grid' and i == 0:\n",
    "            plot_grid(X_train.values, y_train.values, ax[0], f'{ds} - {titles[0]}')\n",
    "\n",
    "        # CNN\n",
    "        cnn = CNN_GCNN(rho=0)\n",
    "        prototypes_X, prototypes_y = cnn.fit(X_train.values, y_train.values)\n",
    "        if ds == 'grid' and i == 0:\n",
    "            plot_grid(prototypes_X, prototypes_y, ax[1], f'{ds} - {titles[1]}')\n",
    "        store_ds(ds, i, 'CNN', prototypes_X, prototypes_y, X_train, y_train)\n",
    "\n",
    "        # EENTh\n",
    "        eetnh = EENTh(k=3, threshold=0.99)\n",
    "        prototypes_X, prototypes_y = eetnh.fit(X_train.values, y_train.values)\n",
    "        if ds == 'grid' and i == 0:\n",
    "            plot_grid(prototypes_X, prototypes_y, ax[2], f'{ds} - {titles[3]}')\n",
    "        store_ds(ds, i, 'EENTh', prototypes_X, prototypes_y, X_train, y_train)\n",
    "\n",
    "        # DROP\n",
    "        drop = DROP(sort_type='sort3', k=3)\n",
    "        prototypes_X, prototypes_y = drop.fit(X_train.values, y_train.values)\n",
    "        if j == 'grid' and i == 0:\n",
    "            plot_grid(prototypes_X, prototypes_y, ax[3], f'{ds} - {titles[2]}')\n",
    "        store_ds(ds, i, 'DROP', prototypes_X, prototypes_y, X_train, y_train)\n",
    "    "
   ]
  },
  {
   "cell_type": "code",
   "execution_count": 3,
   "metadata": {},
   "outputs": [
    {
     "name": "stdout",
     "output_type": "stream",
     "text": [
      " - Using kernel rbf\n",
      " - Using kernel rbf\n",
      " - Using kernel rbf\n",
      " - Using kernel rbf\n",
      " - Using kernel rbf\n",
      " - Using kernel rbf\n",
      " - Using kernel rbf\n",
      " - Using kernel rbf\n",
      " - Using kernel rbf\n",
      " - Using kernel rbf\n",
      " - Using kernel rbf\n",
      " - Using kernel rbf\n",
      " - Using kernel rbf\n",
      " - Using kernel rbf\n",
      " - Using kernel rbf\n",
      " - Using kernel rbf\n",
      " - Using kernel rbf\n",
      " - Using kernel rbf\n",
      " - Using kernel rbf\n",
      " - Using kernel rbf\n",
      " - Using kernel rbf\n",
      " - Using kernel rbf\n",
      " - Using kernel rbf\n",
      " - Using kernel rbf\n",
      " - Using kernel rbf\n",
      " - Using kernel rbf\n",
      " - Using kernel rbf\n",
      " - Using kernel rbf\n",
      " - Using kernel rbf\n",
      " - Using kernel rbf\n"
     ]
    },
    {
     "name": "stderr",
     "output_type": "stream",
     "text": [
      "c:\\Users\\xavid\\anaconda3\\envs\\ML\\lib\\site-packages\\sklearn\\metrics\\_classification.py:1531: UndefinedMetricWarning: Precision is ill-defined and being set to 0.0 in labels with no predicted samples. Use `zero_division` parameter to control this behavior.\n",
      "  _warn_prf(average, modifier, f\"{metric.capitalize()} is\", len(result))\n",
      "c:\\Users\\xavid\\anaconda3\\envs\\ML\\lib\\site-packages\\sklearn\\metrics\\_classification.py:1531: UndefinedMetricWarning: Precision is ill-defined and being set to 0.0 in labels with no predicted samples. Use `zero_division` parameter to control this behavior.\n",
      "  _warn_prf(average, modifier, f\"{metric.capitalize()} is\", len(result))\n",
      "c:\\Users\\xavid\\anaconda3\\envs\\ML\\lib\\site-packages\\sklearn\\metrics\\_classification.py:1531: UndefinedMetricWarning: Precision is ill-defined and being set to 0.0 in labels with no predicted samples. Use `zero_division` parameter to control this behavior.\n",
      "  _warn_prf(average, modifier, f\"{metric.capitalize()} is\", len(result))\n",
      "c:\\Users\\xavid\\anaconda3\\envs\\ML\\lib\\site-packages\\sklearn\\metrics\\_classification.py:1531: UndefinedMetricWarning: Precision is ill-defined and being set to 0.0 in labels with no predicted samples. Use `zero_division` parameter to control this behavior.\n",
      "  _warn_prf(average, modifier, f\"{metric.capitalize()} is\", len(result))\n"
     ]
    }
   ],
   "source": [
    "dataset_names = ['grid']#, 'sick']\n",
    "methods = ['svm', 'knn']\n",
    "best_params = {'grid': {'knn': {'K': 7,\n",
    "   'Distance': 'minkowski2',\n",
    "   'Voting scheme': 'Majority_class',\n",
    "   'Weight scheme': 'Mutual_classifier'},\n",
    "  'svm': {'Kernel': 'rbf'}}}\n",
    "\n",
    "for ds_name in dataset_names:\n",
    "    for method in methods:\n",
    "        for reduction in ['CNN', 'DROP', 'EENTh']:\n",
    "            for i, (X_train, X_test, y_train, y_test) in enumerate(load_ds_train_reductions(ds_name, reduction)):\n",
    "\n",
    "                if method == 'knn':\n",
    "                    results = callKNN(X_train=X_train, X_test=X_test, y_train=y_train, y_test=y_test,  \n",
    "                                    dist_func=best_params[ds_name][method]['Distance'], \n",
    "                                    voting_scheme=best_params[ds_name][method]['Voting scheme'], \n",
    "                                    weight_scheme=best_params[ds_name][method]['Weight scheme'], \n",
    "                                    k=best_params[ds_name][method]['K'])    \n",
    "                elif method == 'svm':\n",
    "                    results = callSVM(X_train=X_train, X_test=X_test, y_train=y_train, y_test=y_test,\n",
    "                                    kernel=best_params[ds_name][method]['Kernel'])\n",
    "                results.to_csv(f'results_{method}_reduced/results_{ds_name}_{i}_{reduction}.csv', index=False)"
   ]
  },
  {
   "cell_type": "code",
   "execution_count": null,
   "metadata": {},
   "outputs": [],
   "source": []
  }
 ],
 "metadata": {
  "kernelspec": {
   "display_name": "ML",
   "language": "python",
   "name": "python3"
  },
  "language_info": {
   "codemirror_mode": {
    "name": "ipython",
    "version": 3
   },
   "file_extension": ".py",
   "mimetype": "text/x-python",
   "name": "python",
   "nbconvert_exporter": "python",
   "pygments_lexer": "ipython3",
   "version": "3.9.0"
  }
 },
 "nbformat": 4,
 "nbformat_minor": 2
}
