{
 "cells": [
  {
   "cell_type": "code",
   "execution_count": 1,
   "metadata": {},
   "outputs": [],
   "source": [
    "import pandas as pd\n",
    "import matplotlib.pyplot as plt\n",
    "\n",
    "from reductions import CNN_GCNN, EENTh, DROP\n",
    "\n",
    "from knn import callKNN\n",
    "from svm import callSVM"
   ]
  },
  {
   "cell_type": "code",
   "execution_count": 2,
   "metadata": {},
   "outputs": [],
   "source": [
    "def load_ds(name, num_folds=10):\n",
    "\n",
    "    folds_data = []\n",
    "\n",
    "    for fold in range(num_folds):\n",
    "\n",
    "        train_file = f'{name}_csv/{name}.fold.00000{fold}.train.csv'\n",
    "\n",
    "        df_train = pd.read_csv(train_file)\n",
    "\n",
    "        X_train = df_train.iloc[:, :-1]\n",
    "        y_train = df_train.iloc[:, -1]\n",
    "\n",
    "        folds_data.append((X_train, y_train,))\n",
    "\n",
    "    return folds_data     \n",
    "\n",
    "def load_ds_train_reductions(name, method, num_folds=10):\n",
    "\n",
    "    folds_data = []\n",
    "\n",
    "    for fold in range(num_folds):\n",
    "\n",
    "        train_file = f'{name}_csv/{name}.fold.00000{fold}_{method}.train.csv'\n",
    "        test_file = f'{name}_csv/{name}.fold.00000{fold}.test.csv'\n",
    "\n",
    "        df_train = pd.read_csv(train_file)\n",
    "        df_test = pd.read_csv(test_file)\n",
    "\n",
    "        X_train = df_train.iloc[:, :-1]\n",
    "        y_train = df_train.iloc[:, -1]\n",
    "        X_test = df_test.iloc[:, :-1]\n",
    "        y_test = df_test.iloc[:, -1]\n",
    "\n",
    "        folds_data.append((X_train, X_test, y_train, y_test))\n",
    "\n",
    "    return folds_data   "
   ]
  },
  {
   "cell_type": "code",
   "execution_count": 3,
   "metadata": {},
   "outputs": [],
   "source": [
    "def store_ds(name, fold, method, prototypes_X, prototypes_y, X_train, y_train):\n",
    "    X_train = pd.DataFrame(prototypes_X, columns = X_train.columns)\n",
    "    y_train = pd.Series(prototypes_y, name = y_train.name, dtype=int)\n",
    "    df = pd.concat((X_train, y_train), axis=1)\n",
    "    df.to_csv(f'{name}_csv/{name}.fold.00000{fold}_{method}.train.csv', index=False)"
   ]
  },
  {
   "cell_type": "code",
   "execution_count": 4,
   "metadata": {},
   "outputs": [],
   "source": [
    "def plot_grid(X_train, y_train, ax, title):\n",
    "    ax.scatter(X_train[y_train == 0][:, 0], X_train[y_train == 0][:, 1], color='blue', label='Class 0')\n",
    "    ax.scatter(X_train[y_train == 1][:, 0], X_train[y_train == 1][:, 1], color='red', label='Class 1')\n",
    "    ax.set_xlim([0, 1])\n",
    "    ax.set_ylim([0, 1])\n",
    "    ax.set_title(title)\n",
    "    ax.legend()\n"
   ]
  },
  {
   "cell_type": "code",
   "execution_count": 5,
   "metadata": {},
   "outputs": [
    {
     "ename": "ValueError",
     "evalue": "Expected n_neighbors <= n_samples_fit, but n_neighbors = 8, n_samples_fit = 7, n_samples = 1",
     "output_type": "error",
     "traceback": [
      "\u001B[1;31m---------------------------------------------------------------------------\u001B[0m",
      "\u001B[1;31mValueError\u001B[0m                                Traceback (most recent call last)",
      "Cell \u001B[1;32mIn[5], line 29\u001B[0m\n\u001B[0;32m     27\u001B[0m \u001B[38;5;66;03m# DROP\u001B[39;00m\n\u001B[0;32m     28\u001B[0m drop \u001B[38;5;241m=\u001B[39m DROP(drop_type\u001B[38;5;241m=\u001B[39m\u001B[38;5;124m'\u001B[39m\u001B[38;5;124mdrop3\u001B[39m\u001B[38;5;124m'\u001B[39m, k\u001B[38;5;241m=\u001B[39m\u001B[38;5;241m7\u001B[39m)\n\u001B[1;32m---> 29\u001B[0m prototypes_X, prototypes_y \u001B[38;5;241m=\u001B[39m \u001B[43mdrop\u001B[49m\u001B[38;5;241;43m.\u001B[39;49m\u001B[43mfit\u001B[49m\u001B[43m(\u001B[49m\u001B[43mX_train\u001B[49m\u001B[38;5;241;43m.\u001B[39;49m\u001B[43mvalues\u001B[49m\u001B[43m,\u001B[49m\u001B[43m \u001B[49m\u001B[43my_train\u001B[49m\u001B[38;5;241;43m.\u001B[39;49m\u001B[43mvalues\u001B[49m\u001B[43m)\u001B[49m\n\u001B[0;32m     30\u001B[0m \u001B[38;5;28;01mif\u001B[39;00m ds \u001B[38;5;241m==\u001B[39m \u001B[38;5;124m'\u001B[39m\u001B[38;5;124mgrid\u001B[39m\u001B[38;5;124m'\u001B[39m \u001B[38;5;129;01mand\u001B[39;00m i \u001B[38;5;241m==\u001B[39m \u001B[38;5;241m0\u001B[39m:\n\u001B[0;32m     31\u001B[0m     plot_grid(prototypes_X, prototypes_y, ax[\u001B[38;5;241m3\u001B[39m], \u001B[38;5;124mf\u001B[39m\u001B[38;5;124m'\u001B[39m\u001B[38;5;132;01m{\u001B[39;00mds\u001B[38;5;132;01m}\u001B[39;00m\u001B[38;5;124m - \u001B[39m\u001B[38;5;132;01m{\u001B[39;00mtitles[\u001B[38;5;241m2\u001B[39m]\u001B[38;5;132;01m}\u001B[39;00m\u001B[38;5;124m'\u001B[39m)\n",
      "File \u001B[1;32mc:\\Users\\xavid\\Documents\\GitHub\\IML-Work2\\pythonProject\\reductions.py:180\u001B[0m, in \u001B[0;36mDROP.fit\u001B[1;34m(self, X, y)\u001B[0m\n\u001B[0;32m    178\u001B[0m \u001B[38;5;66;03m# Evaluar cada instancia en el orden de S\u001B[39;00m\n\u001B[0;32m    179\u001B[0m \u001B[38;5;28;01mfor\u001B[39;00m p \u001B[38;5;129;01min\u001B[39;00m S[:]:  \u001B[38;5;66;03m# Copia de S para no modificarlo durante la iteración\u001B[39;00m\n\u001B[1;32m--> 180\u001B[0m     with_correct \u001B[38;5;241m=\u001B[39m \u001B[38;5;28;43msum\u001B[39;49m\u001B[43m(\u001B[49m\u001B[38;5;241;43m1\u001B[39;49m\u001B[43m \u001B[49m\u001B[38;5;28;43;01mfor\u001B[39;49;00m\u001B[43m \u001B[49m\u001B[43ma\u001B[49m\u001B[43m \u001B[49m\u001B[38;5;129;43;01min\u001B[39;49;00m\u001B[43m \u001B[49m\u001B[43massociates\u001B[49m\u001B[43m[\u001B[49m\u001B[43mp\u001B[49m\u001B[43m]\u001B[49m\u001B[43m \u001B[49m\u001B[38;5;28;43;01mif\u001B[39;49;00m\u001B[43m \u001B[49m\u001B[38;5;28;43mself\u001B[39;49m\u001B[38;5;241;43m.\u001B[39;49m\u001B[43mclassify_without\u001B[49m\u001B[43m(\u001B[49m\u001B[43ma\u001B[49m\u001B[43m,\u001B[49m\u001B[43m \u001B[49m\u001B[38;5;28;43;01mNone\u001B[39;49;00m\u001B[43m)\u001B[49m\u001B[43m \u001B[49m\u001B[38;5;241;43m==\u001B[39;49m\u001B[43m \u001B[49m\u001B[38;5;28;43mself\u001B[39;49m\u001B[38;5;241;43m.\u001B[39;49m\u001B[43my\u001B[49m\u001B[43m[\u001B[49m\u001B[43ma\u001B[49m\u001B[43m]\u001B[49m\u001B[43m)\u001B[49m\n\u001B[0;32m    181\u001B[0m     without_correct \u001B[38;5;241m=\u001B[39m \u001B[38;5;28msum\u001B[39m(\u001B[38;5;241m1\u001B[39m \u001B[38;5;28;01mfor\u001B[39;00m a \u001B[38;5;129;01min\u001B[39;00m \u001B[38;5;28mself\u001B[39m\u001B[38;5;241m.\u001B[39moriginal_indices \u001B[38;5;28;01mif\u001B[39;00m a \u001B[38;5;129;01min\u001B[39;00m associates[p] \u001B[38;5;129;01mand\u001B[39;00m \u001B[38;5;28mself\u001B[39m\u001B[38;5;241m.\u001B[39mclassify_without(a, p) \u001B[38;5;241m==\u001B[39m \u001B[38;5;28mself\u001B[39m\u001B[38;5;241m.\u001B[39my[a])\n\u001B[0;32m    183\u001B[0m     \u001B[38;5;66;03m# Remover P si la precisión de clasificación no se degrada\u001B[39;00m\n",
      "File \u001B[1;32mc:\\Users\\xavid\\Documents\\GitHub\\IML-Work2\\pythonProject\\reductions.py:180\u001B[0m, in \u001B[0;36m<genexpr>\u001B[1;34m(.0)\u001B[0m\n\u001B[0;32m    178\u001B[0m \u001B[38;5;66;03m# Evaluar cada instancia en el orden de S\u001B[39;00m\n\u001B[0;32m    179\u001B[0m \u001B[38;5;28;01mfor\u001B[39;00m p \u001B[38;5;129;01min\u001B[39;00m S[:]:  \u001B[38;5;66;03m# Copia de S para no modificarlo durante la iteración\u001B[39;00m\n\u001B[1;32m--> 180\u001B[0m     with_correct \u001B[38;5;241m=\u001B[39m \u001B[38;5;28msum\u001B[39m(\u001B[38;5;241m1\u001B[39m \u001B[38;5;28;01mfor\u001B[39;00m a \u001B[38;5;129;01min\u001B[39;00m associates[p] \u001B[38;5;28;01mif\u001B[39;00m \u001B[38;5;28;43mself\u001B[39;49m\u001B[38;5;241;43m.\u001B[39;49m\u001B[43mclassify_without\u001B[49m\u001B[43m(\u001B[49m\u001B[43ma\u001B[49m\u001B[43m,\u001B[49m\u001B[43m \u001B[49m\u001B[38;5;28;43;01mNone\u001B[39;49;00m\u001B[43m)\u001B[49m \u001B[38;5;241m==\u001B[39m \u001B[38;5;28mself\u001B[39m\u001B[38;5;241m.\u001B[39my[a])\n\u001B[0;32m    181\u001B[0m     without_correct \u001B[38;5;241m=\u001B[39m \u001B[38;5;28msum\u001B[39m(\u001B[38;5;241m1\u001B[39m \u001B[38;5;28;01mfor\u001B[39;00m a \u001B[38;5;129;01min\u001B[39;00m \u001B[38;5;28mself\u001B[39m\u001B[38;5;241m.\u001B[39moriginal_indices \u001B[38;5;28;01mif\u001B[39;00m a \u001B[38;5;129;01min\u001B[39;00m associates[p] \u001B[38;5;129;01mand\u001B[39;00m \u001B[38;5;28mself\u001B[39m\u001B[38;5;241m.\u001B[39mclassify_without(a, p) \u001B[38;5;241m==\u001B[39m \u001B[38;5;28mself\u001B[39m\u001B[38;5;241m.\u001B[39my[a])\n\u001B[0;32m    183\u001B[0m     \u001B[38;5;66;03m# Remover P si la precisión de clasificación no se degrada\u001B[39;00m\n",
      "File \u001B[1;32mc:\\Users\\xavid\\Documents\\GitHub\\IML-Work2\\pythonProject\\reductions.py:137\u001B[0m, in \u001B[0;36mDROP.classify_without\u001B[1;34m(self, idx, exclude_idx)\u001B[0m\n\u001B[0;32m    136\u001B[0m \u001B[38;5;28;01mdef\u001B[39;00m \u001B[38;5;21mclassify_without\u001B[39m(\u001B[38;5;28mself\u001B[39m, idx, exclude_idx):\n\u001B[1;32m--> 137\u001B[0m     distances, indices \u001B[38;5;241m=\u001B[39m \u001B[38;5;28;43mself\u001B[39;49m\u001B[38;5;241;43m.\u001B[39;49m\u001B[43mnbrs\u001B[49m\u001B[38;5;241;43m.\u001B[39;49m\u001B[43mkneighbors\u001B[49m\u001B[43m(\u001B[49m\u001B[43m[\u001B[49m\u001B[38;5;28;43mself\u001B[39;49m\u001B[38;5;241;43m.\u001B[39;49m\u001B[43mX\u001B[49m\u001B[43m[\u001B[49m\u001B[43midx\u001B[49m\u001B[43m]\u001B[49m\u001B[43m]\u001B[49m\u001B[43m)\u001B[49m\n\u001B[0;32m    138\u001B[0m     filtered_indices \u001B[38;5;241m=\u001B[39m [i \u001B[38;5;28;01mfor\u001B[39;00m i \u001B[38;5;129;01min\u001B[39;00m indices[\u001B[38;5;241m0\u001B[39m] \u001B[38;5;28;01mif\u001B[39;00m i \u001B[38;5;241m!=\u001B[39m exclude_idx][:\u001B[38;5;28mself\u001B[39m\u001B[38;5;241m.\u001B[39mk]\n\u001B[0;32m    139\u001B[0m     \u001B[38;5;28;01mreturn\u001B[39;00m np\u001B[38;5;241m.\u001B[39margmax(np\u001B[38;5;241m.\u001B[39mbincount(\u001B[38;5;28mself\u001B[39m\u001B[38;5;241m.\u001B[39my[filtered_indices]))\n",
      "File \u001B[1;32mc:\\Users\\xavid\\anaconda3\\envs\\ML\\lib\\site-packages\\sklearn\\neighbors\\_base.py:834\u001B[0m, in \u001B[0;36mKNeighborsMixin.kneighbors\u001B[1;34m(self, X, n_neighbors, return_distance)\u001B[0m\n\u001B[0;32m    832\u001B[0m     \u001B[38;5;28;01melse\u001B[39;00m:\n\u001B[0;32m    833\u001B[0m         inequality_str \u001B[38;5;241m=\u001B[39m \u001B[38;5;124m\"\u001B[39m\u001B[38;5;124mn_neighbors <= n_samples_fit\u001B[39m\u001B[38;5;124m\"\u001B[39m\n\u001B[1;32m--> 834\u001B[0m     \u001B[38;5;28;01mraise\u001B[39;00m \u001B[38;5;167;01mValueError\u001B[39;00m(\n\u001B[0;32m    835\u001B[0m         \u001B[38;5;124mf\u001B[39m\u001B[38;5;124m\"\u001B[39m\u001B[38;5;124mExpected \u001B[39m\u001B[38;5;132;01m{\u001B[39;00minequality_str\u001B[38;5;132;01m}\u001B[39;00m\u001B[38;5;124m, but \u001B[39m\u001B[38;5;124m\"\u001B[39m\n\u001B[0;32m    836\u001B[0m         \u001B[38;5;124mf\u001B[39m\u001B[38;5;124m\"\u001B[39m\u001B[38;5;124mn_neighbors = \u001B[39m\u001B[38;5;132;01m{\u001B[39;00mn_neighbors\u001B[38;5;132;01m}\u001B[39;00m\u001B[38;5;124m, n_samples_fit = \u001B[39m\u001B[38;5;132;01m{\u001B[39;00mn_samples_fit\u001B[38;5;132;01m}\u001B[39;00m\u001B[38;5;124m, \u001B[39m\u001B[38;5;124m\"\u001B[39m\n\u001B[0;32m    837\u001B[0m         \u001B[38;5;124mf\u001B[39m\u001B[38;5;124m\"\u001B[39m\u001B[38;5;124mn_samples = \u001B[39m\u001B[38;5;132;01m{\u001B[39;00mX\u001B[38;5;241m.\u001B[39mshape[\u001B[38;5;241m0\u001B[39m]\u001B[38;5;132;01m}\u001B[39;00m\u001B[38;5;124m\"\u001B[39m  \u001B[38;5;66;03m# include n_samples for common tests\u001B[39;00m\n\u001B[0;32m    838\u001B[0m     )\n\u001B[0;32m    840\u001B[0m n_jobs \u001B[38;5;241m=\u001B[39m effective_n_jobs(\u001B[38;5;28mself\u001B[39m\u001B[38;5;241m.\u001B[39mn_jobs)\n\u001B[0;32m    841\u001B[0m chunked_results \u001B[38;5;241m=\u001B[39m \u001B[38;5;28;01mNone\u001B[39;00m\n",
      "\u001B[1;31mValueError\u001B[0m: Expected n_neighbors <= n_samples_fit, but n_neighbors = 8, n_samples_fit = 7, n_samples = 1"
     ]
    },
    {
     "data": {
      "image/png": "[encoded data removed]",
      "text/plain": [
       "<Figure size 1600x400 with 4 Axes>"
      ]
     },
     "metadata": {},
     "output_type": "display_data"
    }
   ],
   "source": [
    "fig, ax = plt.subplots(nrows=1, ncols=4, figsize=(16, 4))\n",
    "datasets = ['sick'] #'grid'\n",
    "titles = ['Original', 'CNN', 'DROP', 'EENTh']\n",
    "\n",
    "# Loop through datasets and apply different methods\n",
    "for ds in datasets:\n",
    "    for i, (X_train, y_train) in enumerate(load_ds(ds)):\n",
    "\n",
    "        \"\"\"# Original dataset plot\n",
    "        if ds == 'grid' and i == 0:\n",
    "            plot_grid(X_train.values, y_train.values, ax[0], f'{ds} - {titles[0]}')\n",
    "\n",
    "        # CNN\n",
    "        cnn = CNN_GCNN(rho=0)\n",
    "        prototypes_X, prototypes_y = cnn.fit(X_train.values, y_train.values)\n",
    "        if ds == 'grid' and i == 0:\n",
    "            plot_grid(prototypes_X, prototypes_y, ax[1], f'{ds} - {titles[1]}')\n",
    "        store_ds(ds, i, 'CNN', prototypes_X, prototypes_y, X_train, y_train)\n",
    "\n",
    "        # EENTh\n",
    "        eetnh = EENTh(k=3, threshold=0.99)\n",
    "        prototypes_X, prototypes_y = eetnh.fit(X_train.values, y_train.values)\n",
    "        if ds == 'grid' and i == 0:\n",
    "            plot_grid(prototypes_X, prototypes_y, ax[2], f'{ds} - {titles[3]}')\n",
    "        store_ds(ds, i, 'EENTh', prototypes_X, prototypes_y, X_train, y_train)\"\"\"\n",
    "\n",
    "        # DROP\n",
    "        drop = DROP(drop_type='drop3', k=7)\n",
    "        prototypes_X, prototypes_y = drop.fit(X_train.values, y_train.values)\n",
    "        if ds == 'grid' and i == 0:\n",
    "            plot_grid(prototypes_X, prototypes_y, ax[3], f'{ds} - {titles[2]}')\n",
    "        store_ds(ds, i, 'DROP', prototypes_X, prototypes_y, X_train, y_train)\n",
    "    "
   ]
  },
  {
   "cell_type": "code",
   "execution_count": 14,
   "metadata": {},
   "outputs": [
    {
     "name": "stdout",
     "output_type": "stream",
     "text": [
      "0 CNN\n",
      "1 CNN\n",
      "2 CNN\n"
     ]
    },
    {
     "name": "stderr",
     "output_type": "stream",
     "text": [
      "c:\\Users\\xavid\\anaconda3\\envs\\ML\\lib\\site-packages\\sklearn\\metrics\\_classification.py:1531: UndefinedMetricWarning: Precision is ill-defined and being set to 0.0 in labels with no predicted samples. Use `zero_division` parameter to control this behavior.\n",
      "  _warn_prf(average, modifier, f\"{metric.capitalize()} is\", len(result))\n",
      "c:\\Users\\xavid\\anaconda3\\envs\\ML\\lib\\site-packages\\sklearn\\metrics\\_classification.py:1531: UndefinedMetricWarning: Precision is ill-defined and being set to 0.0 in labels with no predicted samples. Use `zero_division` parameter to control this behavior.\n",
      "  _warn_prf(average, modifier, f\"{metric.capitalize()} is\", len(result))\n"
     ]
    },
    {
     "name": "stdout",
     "output_type": "stream",
     "text": [
      "3 CNN\n",
      "4 CNN\n",
      "5 CNN\n"
     ]
    },
    {
     "name": "stderr",
     "output_type": "stream",
     "text": [
      "c:\\Users\\xavid\\anaconda3\\envs\\ML\\lib\\site-packages\\sklearn\\metrics\\_classification.py:1531: UndefinedMetricWarning: Precision is ill-defined and being set to 0.0 in labels with no predicted samples. Use `zero_division` parameter to control this behavior.\n",
      "  _warn_prf(average, modifier, f\"{metric.capitalize()} is\", len(result))\n",
      "c:\\Users\\xavid\\anaconda3\\envs\\ML\\lib\\site-packages\\sklearn\\metrics\\_classification.py:1531: UndefinedMetricWarning: Precision is ill-defined and being set to 0.0 in labels with no predicted samples. Use `zero_division` parameter to control this behavior.\n",
      "  _warn_prf(average, modifier, f\"{metric.capitalize()} is\", len(result))\n"
     ]
    },
    {
     "name": "stdout",
     "output_type": "stream",
     "text": [
      "6 CNN\n",
      "7 CNN\n",
      "8 CNN\n"
     ]
    },
    {
     "name": "stderr",
     "output_type": "stream",
     "text": [
      "c:\\Users\\xavid\\anaconda3\\envs\\ML\\lib\\site-packages\\sklearn\\metrics\\_classification.py:1531: UndefinedMetricWarning: Precision is ill-defined and being set to 0.0 in labels with no predicted samples. Use `zero_division` parameter to control this behavior.\n",
      "  _warn_prf(average, modifier, f\"{metric.capitalize()} is\", len(result))\n"
     ]
    },
    {
     "name": "stdout",
     "output_type": "stream",
     "text": [
      "9 CNN\n",
      "0 DROP\n"
     ]
    },
    {
     "ename": "ValueError",
     "evalue": "The number of classes has to be greater than one; got 1 class",
     "output_type": "error",
     "traceback": [
      "\u001B[1;31m---------------------------------------------------------------------------\u001B[0m",
      "\u001B[1;31mValueError\u001B[0m                                Traceback (most recent call last)",
      "Cell \u001B[1;32mIn[14], line 32\u001B[0m\n\u001B[0;32m     26\u001B[0m     results \u001B[38;5;241m=\u001B[39m callKNN(X_train\u001B[38;5;241m=\u001B[39mX_train, X_test\u001B[38;5;241m=\u001B[39mX_test, y_train\u001B[38;5;241m=\u001B[39my_train, y_test\u001B[38;5;241m=\u001B[39my_test,  \n\u001B[0;32m     27\u001B[0m                     dist_func\u001B[38;5;241m=\u001B[39mbest_params[ds_name][method][\u001B[38;5;124m'\u001B[39m\u001B[38;5;124mDistance\u001B[39m\u001B[38;5;124m'\u001B[39m], \n\u001B[0;32m     28\u001B[0m                     voting_scheme\u001B[38;5;241m=\u001B[39mbest_params[ds_name][method][\u001B[38;5;124m'\u001B[39m\u001B[38;5;124mVoting scheme\u001B[39m\u001B[38;5;124m'\u001B[39m], \n\u001B[0;32m     29\u001B[0m                     weight_scheme\u001B[38;5;241m=\u001B[39mbest_params[ds_name][method][\u001B[38;5;124m'\u001B[39m\u001B[38;5;124mWeight scheme\u001B[39m\u001B[38;5;124m'\u001B[39m], \n\u001B[0;32m     30\u001B[0m                     k\u001B[38;5;241m=\u001B[39mbest_params[ds_name][method][\u001B[38;5;124m'\u001B[39m\u001B[38;5;124mK\u001B[39m\u001B[38;5;124m'\u001B[39m])    \n\u001B[0;32m     31\u001B[0m \u001B[38;5;28;01melif\u001B[39;00m method \u001B[38;5;241m==\u001B[39m \u001B[38;5;124m'\u001B[39m\u001B[38;5;124msvm\u001B[39m\u001B[38;5;124m'\u001B[39m:\n\u001B[1;32m---> 32\u001B[0m     results \u001B[38;5;241m=\u001B[39m \u001B[43mcallSVM\u001B[49m\u001B[43m(\u001B[49m\u001B[43mX_train\u001B[49m\u001B[38;5;241;43m=\u001B[39;49m\u001B[43mX_train\u001B[49m\u001B[43m,\u001B[49m\u001B[43m \u001B[49m\u001B[43mX_test\u001B[49m\u001B[38;5;241;43m=\u001B[39;49m\u001B[43mX_test\u001B[49m\u001B[43m,\u001B[49m\u001B[43m \u001B[49m\u001B[43my_train\u001B[49m\u001B[38;5;241;43m=\u001B[39;49m\u001B[43my_train\u001B[49m\u001B[43m,\u001B[49m\u001B[43m \u001B[49m\u001B[43my_test\u001B[49m\u001B[38;5;241;43m=\u001B[39;49m\u001B[43my_test\u001B[49m\u001B[43m,\u001B[49m\n\u001B[0;32m     33\u001B[0m \u001B[43m                    \u001B[49m\u001B[43mkernel\u001B[49m\u001B[38;5;241;43m=\u001B[39;49m\u001B[43mbest_params\u001B[49m\u001B[43m[\u001B[49m\u001B[43mds_name\u001B[49m\u001B[43m]\u001B[49m\u001B[43m[\u001B[49m\u001B[43mmethod\u001B[49m\u001B[43m]\u001B[49m\u001B[43m[\u001B[49m\u001B[38;5;124;43m'\u001B[39;49m\u001B[38;5;124;43mKernel\u001B[39;49m\u001B[38;5;124;43m'\u001B[39;49m\u001B[43m]\u001B[49m\u001B[43m)\u001B[49m\n\u001B[0;32m     34\u001B[0m results\u001B[38;5;241m.\u001B[39mto_csv(\u001B[38;5;124mf\u001B[39m\u001B[38;5;124m'\u001B[39m\u001B[38;5;124mresults_\u001B[39m\u001B[38;5;132;01m{\u001B[39;00mmethod\u001B[38;5;132;01m}\u001B[39;00m\u001B[38;5;124m_reduced/results_\u001B[39m\u001B[38;5;132;01m{\u001B[39;00mds_name\u001B[38;5;132;01m}\u001B[39;00m\u001B[38;5;124m_\u001B[39m\u001B[38;5;132;01m{\u001B[39;00mi\u001B[38;5;132;01m}\u001B[39;00m\u001B[38;5;124m_\u001B[39m\u001B[38;5;132;01m{\u001B[39;00mreduction\u001B[38;5;132;01m}\u001B[39;00m\u001B[38;5;124m.csv\u001B[39m\u001B[38;5;124m'\u001B[39m, index\u001B[38;5;241m=\u001B[39m\u001B[38;5;28;01mFalse\u001B[39;00m)\n",
      "File \u001B[1;32mc:\\Users\\xavid\\Documents\\GitHub\\IML-Work2\\pythonProject\\svm.py:56\u001B[0m, in \u001B[0;36mcallSVM\u001B[1;34m(X_train, X_test, y_train, y_test, kernel)\u001B[0m\n\u001B[0;32m     54\u001B[0m start \u001B[38;5;241m=\u001B[39m time\u001B[38;5;241m.\u001B[39mtime()\n\u001B[0;32m     55\u001B[0m svm \u001B[38;5;241m=\u001B[39m SVC(kernel\u001B[38;5;241m=\u001B[39mkernel)\n\u001B[1;32m---> 56\u001B[0m \u001B[43msvm\u001B[49m\u001B[38;5;241;43m.\u001B[39;49m\u001B[43mfit\u001B[49m\u001B[43m(\u001B[49m\u001B[43mX_train\u001B[49m\u001B[43m,\u001B[49m\u001B[43m \u001B[49m\u001B[43my_train\u001B[49m\u001B[43m)\u001B[49m\n\u001B[0;32m     57\u001B[0m y_pred \u001B[38;5;241m=\u001B[39m svm\u001B[38;5;241m.\u001B[39mpredict(X_test)\n\u001B[0;32m     58\u001B[0m solving_time \u001B[38;5;241m=\u001B[39m time\u001B[38;5;241m.\u001B[39mtime() \u001B[38;5;241m-\u001B[39m start\n",
      "File \u001B[1;32mc:\\Users\\xavid\\anaconda3\\envs\\ML\\lib\\site-packages\\sklearn\\base.py:1473\u001B[0m, in \u001B[0;36m_fit_context.<locals>.decorator.<locals>.wrapper\u001B[1;34m(estimator, *args, **kwargs)\u001B[0m\n\u001B[0;32m   1466\u001B[0m     estimator\u001B[38;5;241m.\u001B[39m_validate_params()\n\u001B[0;32m   1468\u001B[0m \u001B[38;5;28;01mwith\u001B[39;00m config_context(\n\u001B[0;32m   1469\u001B[0m     skip_parameter_validation\u001B[38;5;241m=\u001B[39m(\n\u001B[0;32m   1470\u001B[0m         prefer_skip_nested_validation \u001B[38;5;129;01mor\u001B[39;00m global_skip_validation\n\u001B[0;32m   1471\u001B[0m     )\n\u001B[0;32m   1472\u001B[0m ):\n\u001B[1;32m-> 1473\u001B[0m     \u001B[38;5;28;01mreturn\u001B[39;00m fit_method(estimator, \u001B[38;5;241m*\u001B[39margs, \u001B[38;5;241m*\u001B[39m\u001B[38;5;241m*\u001B[39mkwargs)\n",
      "File \u001B[1;32mc:\\Users\\xavid\\anaconda3\\envs\\ML\\lib\\site-packages\\sklearn\\svm\\_base.py:199\u001B[0m, in \u001B[0;36mBaseLibSVM.fit\u001B[1;34m(self, X, y, sample_weight)\u001B[0m\n\u001B[0;32m    189\u001B[0m \u001B[38;5;28;01melse\u001B[39;00m:\n\u001B[0;32m    190\u001B[0m     X, y \u001B[38;5;241m=\u001B[39m \u001B[38;5;28mself\u001B[39m\u001B[38;5;241m.\u001B[39m_validate_data(\n\u001B[0;32m    191\u001B[0m         X,\n\u001B[0;32m    192\u001B[0m         y,\n\u001B[1;32m   (...)\u001B[0m\n\u001B[0;32m    196\u001B[0m         accept_large_sparse\u001B[38;5;241m=\u001B[39m\u001B[38;5;28;01mFalse\u001B[39;00m,\n\u001B[0;32m    197\u001B[0m     )\n\u001B[1;32m--> 199\u001B[0m y \u001B[38;5;241m=\u001B[39m \u001B[38;5;28;43mself\u001B[39;49m\u001B[38;5;241;43m.\u001B[39;49m\u001B[43m_validate_targets\u001B[49m\u001B[43m(\u001B[49m\u001B[43my\u001B[49m\u001B[43m)\u001B[49m\n\u001B[0;32m    201\u001B[0m sample_weight \u001B[38;5;241m=\u001B[39m np\u001B[38;5;241m.\u001B[39masarray(\n\u001B[0;32m    202\u001B[0m     [] \u001B[38;5;28;01mif\u001B[39;00m sample_weight \u001B[38;5;129;01mis\u001B[39;00m \u001B[38;5;28;01mNone\u001B[39;00m \u001B[38;5;28;01melse\u001B[39;00m sample_weight, dtype\u001B[38;5;241m=\u001B[39mnp\u001B[38;5;241m.\u001B[39mfloat64\n\u001B[0;32m    203\u001B[0m )\n\u001B[0;32m    204\u001B[0m solver_type \u001B[38;5;241m=\u001B[39m LIBSVM_IMPL\u001B[38;5;241m.\u001B[39mindex(\u001B[38;5;28mself\u001B[39m\u001B[38;5;241m.\u001B[39m_impl)\n",
      "File \u001B[1;32mc:\\Users\\xavid\\anaconda3\\envs\\ML\\lib\\site-packages\\sklearn\\svm\\_base.py:742\u001B[0m, in \u001B[0;36mBaseSVC._validate_targets\u001B[1;34m(self, y)\u001B[0m\n\u001B[0;32m    740\u001B[0m \u001B[38;5;28mself\u001B[39m\u001B[38;5;241m.\u001B[39mclass_weight_ \u001B[38;5;241m=\u001B[39m compute_class_weight(\u001B[38;5;28mself\u001B[39m\u001B[38;5;241m.\u001B[39mclass_weight, classes\u001B[38;5;241m=\u001B[39m\u001B[38;5;28mcls\u001B[39m, y\u001B[38;5;241m=\u001B[39my_)\n\u001B[0;32m    741\u001B[0m \u001B[38;5;28;01mif\u001B[39;00m \u001B[38;5;28mlen\u001B[39m(\u001B[38;5;28mcls\u001B[39m) \u001B[38;5;241m<\u001B[39m \u001B[38;5;241m2\u001B[39m:\n\u001B[1;32m--> 742\u001B[0m     \u001B[38;5;28;01mraise\u001B[39;00m \u001B[38;5;167;01mValueError\u001B[39;00m(\n\u001B[0;32m    743\u001B[0m         \u001B[38;5;124m\"\u001B[39m\u001B[38;5;124mThe number of classes has to be greater than one; got \u001B[39m\u001B[38;5;132;01m%d\u001B[39;00m\u001B[38;5;124m class\u001B[39m\u001B[38;5;124m\"\u001B[39m\n\u001B[0;32m    744\u001B[0m         \u001B[38;5;241m%\u001B[39m \u001B[38;5;28mlen\u001B[39m(\u001B[38;5;28mcls\u001B[39m)\n\u001B[0;32m    745\u001B[0m     )\n\u001B[0;32m    747\u001B[0m \u001B[38;5;28mself\u001B[39m\u001B[38;5;241m.\u001B[39mclasses_ \u001B[38;5;241m=\u001B[39m \u001B[38;5;28mcls\u001B[39m\n\u001B[0;32m    749\u001B[0m \u001B[38;5;28;01mreturn\u001B[39;00m np\u001B[38;5;241m.\u001B[39masarray(y, dtype\u001B[38;5;241m=\u001B[39mnp\u001B[38;5;241m.\u001B[39mfloat64, order\u001B[38;5;241m=\u001B[39m\u001B[38;5;124m\"\u001B[39m\u001B[38;5;124mC\u001B[39m\u001B[38;5;124m\"\u001B[39m)\n",
      "\u001B[1;31mValueError\u001B[0m: The number of classes has to be greater than one; got 1 class"
     ]
    }
   ],
   "source": [
    "dataset_names = ['sick', 'grid']\n",
    "methods = ['svm', 'knn']\n",
    "best_params = {'grid': {\n",
    "                    'knn': {\n",
    "                        'K': 7,\n",
    "                        'Distance': 'minkowski2',\n",
    "                        'Voting scheme': 'Majority_class',\n",
    "                        'Weight scheme': 'Mutual_classifier'},\n",
    "                    'svm': \n",
    "                        {'Kernel': 'rbf'}}, \n",
    "                'sick': {\n",
    "                    'knn':{\n",
    "                        'K': 7, \n",
    "                        'Distance': 'HEOM', \n",
    "                        'Voting scheme': 'Majority_class', \n",
    "                        'Weight scheme': 'Mutual_classifier'},\n",
    "                    'svm': \n",
    "                        {'Kernel': 'rbf'}}}\n",
    "\n",
    "for ds_name in dataset_names:\n",
    "    for method in methods:\n",
    "        for reduction in ['CNN', 'DROP', 'EENTh']:\n",
    "            for i, (X_train, X_test, y_train, y_test) in enumerate(load_ds_train_reductions(ds_name, reduction)):\n",
    "                print(i, reduction)\n",
    "                if method == 'knn':\n",
    "                    results = callKNN(X_train=X_train, X_test=X_test, y_train=y_train, y_test=y_test,  \n",
    "                                    dist_func=best_params[ds_name][method]['Distance'], \n",
    "                                    voting_scheme=best_params[ds_name][method]['Voting scheme'], \n",
    "                                    weight_scheme=best_params[ds_name][method]['Weight scheme'], \n",
    "                                    k=best_params[ds_name][method]['K'])    \n",
    "                elif method == 'svm':\n",
    "                    results = callSVM(X_train=X_train, X_test=X_test, y_train=y_train, y_test=y_test,\n",
    "                                    kernel=best_params[ds_name][method]['Kernel'])\n",
    "                results.to_csv(f'results_{method}_reduced/results_{ds_name}_{i}_{reduction}.csv', index=False)"
   ]
  },
  {
   "cell_type": "code",
   "execution_count": null,
   "metadata": {},
   "outputs": [],
   "source": []
  }
 ],
 "metadata": {
  "kernelspec": {
   "display_name": "ML",
   "language": "python",
   "name": "python3"
  },
  "language_info": {
   "codemirror_mode": {
    "name": "ipython",
    "version": 3
   },
   "file_extension": ".py",
   "mimetype": "text/x-python",
   "name": "python",
   "nbconvert_exporter": "python",
   "pygments_lexer": "ipython3",
   "version": "3.9.0"
  }
 },
 "nbformat": 4,
 "nbformat_minor": 2
}
