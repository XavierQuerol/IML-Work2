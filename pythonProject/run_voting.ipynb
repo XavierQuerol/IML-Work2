{
 "cells": [
  {
   "cell_type": "code",
   "id": "initial_id",
   "metadata": {
    "collapsed": true,
    "ExecuteTime": {
     "end_time": "2024-10-11T09:09:30.981560Z",
     "start_time": "2024-10-11T09:09:30.965826Z"
    }
   },
   "source": [
    "import numpy as np\n",
    "distances = np.array([0.1,0.2,0.3,0.4,0.5,0.6,0.7,0.8,0.9])\n",
    "classes = np.array([3,2,3,1,2,3,3,2,1])"
   ],
   "outputs": [],
   "execution_count": 50
  },
  {
   "metadata": {
    "ExecuteTime": {
     "end_time": "2024-10-11T09:09:31.012790Z",
     "start_time": "2024-10-11T09:09:30.983647Z"
    }
   },
   "cell_type": "code",
   "source": [
    "# Common helper to handle tie-breaking\n",
    "def handle_tie(classes, metric):\n",
    "    return classes[np.argmax(metric)]  # Breaking ties by the largest metric\n",
    "\n",
    "# distances: list of distances to the k nearest neighbours\n",
    "# classes: list of classes of the k nearest neighbours\n",
    "# class_weights: dictionary of class weights (optional)\n",
    "def majority_class(distances, classes, class_weights=None):\n",
    "    unique_classes, count = np.unique(classes, return_counts=True)\n",
    "\n",
    "    # Apply class weights if provided\n",
    "    if class_weights is not None:\n",
    "        count = np.array([count[i] * class_weights.get(cls, 1) for i, cls in enumerate(unique_classes)])\n",
    "\n",
    "    max_count = np.max(count)\n",
    "    max_class = unique_classes[count == max_count]\n",
    "\n",
    "    if len(max_class) == 1:\n",
    "        return max_class[0]\n",
    "\n",
    "    # Tie breaking by average distance\n",
    "    avg_distances = np.array([np.mean(distances[classes == cls]) for cls in max_class])\n",
    "    max_class = handle_tie(max_class, -avg_distances)\n",
    "\n",
    "    return max_class\n",
    "\n",
    "\n",
    "# distances: list of distances to the k nearest neighbours\n",
    "# classes: list of classes of the k nearest neighbours\n",
    "# class_weights: dictionary of class weights (optional)\n",
    "def inverse_distance_weight(distances, classes, class_weights=None):\n",
    "    unique_classes = np.unique(classes)\n",
    "    metric = np.zeros(len(unique_classes))\n",
    "\n",
    "    for i, cls in enumerate(unique_classes):\n",
    "        d = distances[classes == cls]\n",
    "        metric[i] = np.sum(1 / d)\n",
    "\n",
    "    # Apply class weights if provided\n",
    "    if class_weights is not None:\n",
    "        metric = np.array([metric[i] * class_weights.get(cls, 1) for i, cls in enumerate(unique_classes)])\n",
    "\n",
    "    max_count = np.max(metric)\n",
    "    max_class = unique_classes[metric == max_count]\n",
    "\n",
    "    if len(max_class) == 1:\n",
    "        return max_class[0]\n",
    "\n",
    "    # Tie breaking by the metric\n",
    "    max_class = handle_tie(max_class, metric)\n",
    "    return max_class\n",
    "\n",
    "\n",
    "# distances: list of distances to the k nearest neighbours\n",
    "# classes: list of classes of the k nearest neighbours\n",
    "# class_weights: dictionary of class weights (optional)\n",
    "def sheppards_work(distances, classes, class_weights=None):\n",
    "    unique_classes = np.unique(classes)\n",
    "    metric = np.zeros(len(unique_classes))\n",
    "\n",
    "    for i, cls in enumerate(unique_classes):\n",
    "        d = distances[classes == cls]\n",
    "        metric[i] = np.sum(np.exp(-d))\n",
    "\n",
    "    # Apply class weights if provided\n",
    "    if class_weights is not None:\n",
    "        metric = np.array([metric[i] * class_weights.get(cls, 1) for i, cls in enumerate(unique_classes)])\n",
    "\n",
    "    max_count = np.max(metric)\n",
    "    max_class = unique_classes[metric == max_count]\n",
    "\n",
    "    if len(max_class) == 1:\n",
    "        return max_class[0]\n",
    "\n",
    "    # Tie breaking by the metric\n",
    "    max_class = handle_tie(max_class, metric)\n",
    "    return max_class"
   ],
   "id": "446d789a40d34d1c",
   "outputs": [],
   "execution_count": 51
  },
  {
   "metadata": {
    "ExecuteTime": {
     "end_time": "2024-10-11T09:10:02.070236Z",
     "start_time": "2024-10-11T09:10:02.054619Z"
    }
   },
   "cell_type": "code",
   "source": "print(majority_class(distances, classes, {1: 0.01, 2: 10.0, 3: 0.5}))",
   "id": "2602ad7cf7af7980",
   "outputs": [
    {
     "name": "stdout",
     "output_type": "stream",
     "text": [
      "2\n"
     ]
    }
   ],
   "execution_count": 55
  }
 ],
 "metadata": {
  "kernelspec": {
   "display_name": "Python 3",
   "language": "python",
   "name": "python3"
  },
  "language_info": {
   "codemirror_mode": {
    "name": "ipython",
    "version": 2
   },
   "file_extension": ".py",
   "mimetype": "text/x-python",
   "name": "python",
   "nbconvert_exporter": "python",
   "pygments_lexer": "ipython2",
   "version": "2.7.6"
  }
 },
 "nbformat": 4,
 "nbformat_minor": 5
}
