{
 "cells": [
  {
   "cell_type": "code",
   "id": "initial_id",
   "metadata": {
    "collapsed": true,
    "ExecuteTime": {
     "end_time": "2024-10-21T15:33:08.584914Z",
     "start_time": "2024-10-21T15:33:07.780178Z"
    }
   },
   "source": [
    "import os\n",
    "import pandas as pd\n",
    "\n",
    "# Define the folder containing the CSV files\n",
    "folder_path = 'results'\n",
    "\n",
    "# Get a list of all CSV files in the folder\n",
    "csv_files = [f for f in os.listdir(folder_path) if 'grid' in f]\n",
    "# Initialize an empty list to store dataframes\n",
    "df_list = []\n",
    "# Loop through each file, read it, and append the dataframe to the list\n",
    "for file in csv_files:\n",
    "    file_path = os.path.join(folder_path, file)  # Full file path\n",
    "    df = pd.read_csv(file_path)  # Read the CSV file\n",
    "    df_list.append(df)  # Add the dataframe to the list\n",
    "# Concatenate all dataframes into a single dataframe\n",
    "df_combined = pd.concat(df_list, ignore_index=True)\n",
    "# Now df_combined has all the data from the 10 folds\n",
    "print(df_combined.head())\n"
   ],
   "outputs": [
    {
     "name": "stdout",
     "output_type": "stream",
     "text": [
      "   K    Distance   Voting scheme      Weight scheme  Accuracy  Precision  \\\n",
      "0  1  minkowski1  Majority_class  Mutual_classifier  0.946809   0.947619   \n",
      "1  3  minkowski1  Majority_class  Mutual_classifier  0.946809   0.947011   \n",
      "2  5  minkowski1  Majority_class  Mutual_classifier  0.962766   0.964079   \n",
      "3  7  minkowski1  Majority_class  Mutual_classifier  0.968085   0.968297   \n",
      "4  1  minkowski1  Majority_class             Relief  0.728723   0.728957   \n",
      "\n",
      "     Recall        F1  Solving Time  \n",
      "0  0.946809  0.946784      1.418221  \n",
      "1  0.946809  0.946802      1.395949  \n",
      "2  0.962766  0.962740      1.406002  \n",
      "3  0.968085  0.968081      1.746111  \n",
      "4  0.728723  0.728654      6.448211  \n"
     ]
    }
   ],
   "execution_count": 1
  },
  {
   "metadata": {
    "ExecuteTime": {
     "end_time": "2024-10-21T15:33:16.884760Z",
     "start_time": "2024-10-21T15:33:16.814769Z"
    }
   },
   "cell_type": "code",
   "source": [
    "grouped_df = df_combined.groupby(['K', 'Distance', 'Voting scheme', 'Weight scheme'])\n",
    "\n",
    "# Compute mean and standard deviation of the relevant metrics\n",
    "metrics_summary = grouped_df.agg({\n",
    "    'Accuracy': ['mean', 'std'],\n",
    "    'Precision': ['mean', 'std'],\n",
    "    'Recall': ['mean', 'std'],\n",
    "    'F1': ['mean', 'std'],\n",
    "    'Solving Time': ['mean', 'std']\n",
    "}).reset_index()\n",
    "\n",
    "# Rename the columns for clarity\n",
    "metrics_summary.columns = ['K', 'Distance', 'Voting scheme', 'Weight scheme',\n",
    "                           'Accuracy_mean', 'Accuracy_std',\n",
    "                           'Precision_mean', 'Precision_std',\n",
    "                           'Recall_mean', 'Recall_std',\n",
    "                           'F1_mean', 'F1_std',\n",
    "                           'Solving Time_mean', 'Solving Time_std']\n",
    "\n",
    "# Show the metrics summary\n",
    "print(metrics_summary)"
   ],
   "id": "5e55c6a085ffce4d",
   "outputs": [
    {
     "name": "stdout",
     "output_type": "stream",
     "text": [
      "     K    Distance             Voting scheme      Weight scheme  \\\n",
      "0    1        HEOM  Inverse_Distance_Weights              ANOVA   \n",
      "1    1        HEOM  Inverse_Distance_Weights  Mutual_classifier   \n",
      "2    1        HEOM  Inverse_Distance_Weights             Relief   \n",
      "3    1        HEOM            Majority_class              ANOVA   \n",
      "4    1        HEOM            Majority_class  Mutual_classifier   \n",
      "..  ..         ...                       ...                ...   \n",
      "103  7  minkowski2            Majority_class  Mutual_classifier   \n",
      "104  7  minkowski2            Majority_class             Relief   \n",
      "105  7  minkowski2            Sheppards_Work              ANOVA   \n",
      "106  7  minkowski2            Sheppards_Work  Mutual_classifier   \n",
      "107  7  minkowski2            Sheppards_Work             Relief   \n",
      "\n",
      "     Accuracy_mean  Accuracy_std  Precision_mean  Precision_std  Recall_mean  \\\n",
      "0         0.713431      0.030017        0.720178       0.036691     0.713431   \n",
      "1         0.952848      0.012636        0.953556       0.012755     0.952848   \n",
      "2         0.713431      0.030017        0.720178       0.036691     0.713431   \n",
      "3         0.713431      0.030017        0.720178       0.036691     0.713431   \n",
      "4         0.951244      0.016788        0.951909       0.016717     0.951244   \n",
      "..             ...           ...             ...            ...          ...   \n",
      "103       0.964508      0.015235        0.964936       0.015086     0.964508   \n",
      "104       0.726138      0.032782        0.731518       0.032683     0.726138   \n",
      "105       0.726138      0.032782        0.731518       0.032683     0.726138   \n",
      "106       0.960784      0.014658        0.961275       0.014496     0.960784   \n",
      "107       0.726138      0.032782        0.731518       0.032683     0.726138   \n",
      "\n",
      "     Recall_std   F1_mean    F1_std  Solving Time_mean  Solving Time_std  \n",
      "0      0.030017  0.711475  0.029100           0.908862          0.007037  \n",
      "1      0.012636  0.952828  0.012638           1.289761          0.012765  \n",
      "2      0.030017  0.711475  0.029100           5.661780          0.048793  \n",
      "3      0.030017  0.711475  0.029100           0.909739          0.004174  \n",
      "4      0.016788  0.951223  0.016794           1.290096          0.015935  \n",
      "..          ...       ...       ...                ...               ...  \n",
      "103    0.015235  0.964498  0.015240           2.764393          0.012245  \n",
      "104    0.032782  0.724366  0.033467           7.564501          0.254008  \n",
      "105    0.032782  0.724366  0.033467           2.742862          0.048431  \n",
      "106    0.014658  0.960771  0.014665           2.758027          0.012609  \n",
      "107    0.032782  0.724366  0.033467           7.463188          0.056546  \n",
      "\n",
      "[108 rows x 14 columns]\n"
     ]
    }
   ],
   "execution_count": 2
  }
 ],
 "metadata": {
  "kernelspec": {
   "display_name": "Python 3",
   "language": "python",
   "name": "python3"
  },
  "language_info": {
   "codemirror_mode": {
    "name": "ipython",
    "version": 2
   },
   "file_extension": ".py",
   "mimetype": "text/x-python",
   "name": "python",
   "nbconvert_exporter": "python",
   "pygments_lexer": "ipython2",
   "version": "2.7.6"
  }
 },
 "nbformat": 4,
 "nbformat_minor": 5
}
