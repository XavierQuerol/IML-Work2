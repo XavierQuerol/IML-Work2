{
 "cells": [
  {
   "cell_type": "code",
   "id": "initial_id",
   "metadata": {
    "collapsed": true,
    "ExecuteTime": {
     "end_time": "2024-10-04T10:11:27.451024Z",
     "start_time": "2024-10-04T10:11:27.434977Z"
    }
   },
   "source": [
    "from scipy.io.arff import loadarff\n",
    "import pandas as pd"
   ],
   "outputs": [],
   "execution_count": 20
  },
  {
   "metadata": {},
   "cell_type": "markdown",
   "source": "#### Lectura de fichero",
   "id": "ecfcc540da49486d"
  },
  {
   "metadata": {
    "ExecuteTime": {
     "end_time": "2024-10-04T10:11:28.608199Z",
     "start_time": "2024-10-04T10:11:28.478977Z"
    }
   },
   "cell_type": "code",
   "source": [
    "df_sick_train, meta_train = loadarff('sick/sick.fold.000000.train.arff')\n",
    "df_sick_test, meta_test = loadarff('sick/sick.fold.000000.train.arff')"
   ],
   "id": "2542d04ef5d75845",
   "outputs": [],
   "execution_count": 21
  },
  {
   "metadata": {
    "ExecuteTime": {
     "end_time": "2024-10-04T10:11:29.602354Z",
     "start_time": "2024-10-04T10:11:29.511511Z"
    }
   },
   "cell_type": "code",
   "source": [
    "df_sick_train = pd.DataFrame(df_sick_train)\n",
    "df_sick_test = pd.DataFrame(df_sick_test)\n",
    "df_sick_train = df_sick_train.applymap(lambda x: x.decode('utf-8') if isinstance(x, bytes) else x)\n",
    "df_sick_test = df_sick_test.applymap(lambda x: x.decode('utf-8') if isinstance(x, bytes) else x)"
   ],
   "id": "441297c572391bf2",
   "outputs": [
    {
     "name": "stderr",
     "output_type": "stream",
     "text": [
      "C:\\Users\\xavid\\AppData\\Local\\Temp\\ipykernel_17396\\2591950523.py:3: FutureWarning: DataFrame.applymap has been deprecated. Use DataFrame.map instead.\n",
      "  df_sick_train = df_sick_train.applymap(lambda x: x.decode('utf-8') if isinstance(x, bytes) else x)\n",
      "C:\\Users\\xavid\\AppData\\Local\\Temp\\ipykernel_17396\\2591950523.py:4: FutureWarning: DataFrame.applymap has been deprecated. Use DataFrame.map instead.\n",
      "  df_sick_test = df_sick_test.applymap(lambda x: x.decode('utf-8') if isinstance(x, bytes) else x)\n"
     ]
    }
   ],
   "execution_count": 22
  },
  {
   "metadata": {},
   "cell_type": "markdown",
   "source": "#### Data analysis",
   "id": "7e1f63474f6d0280"
  },
  {
   "metadata": {
    "ExecuteTime": {
     "end_time": "2024-10-04T10:08:05.403924Z",
     "start_time": "2024-10-04T10:08:05.365843Z"
    }
   },
   "cell_type": "code",
   "source": "df_sick_train[df_sick_train['age'].isna()]",
   "id": "2a1e15caf9de2f9b",
   "outputs": [
    {
     "data": {
      "text/plain": [
       "      age sex on_thyroxine query_on_thyroxine on_antithyroid_medication sick  \\\n",
       "1950  NaN   F            t                  f                         f    f   \n",
       "\n",
       "     pregnant thyroid_surgery I131_treatment query_hypothyroid  ...  \\\n",
       "1950        f               f              t                 f  ...   \n",
       "\n",
       "     TT4_measured    TT4 T4U_measured   T4U FTI_measured    FTI TBG_measured  \\\n",
       "1950            t  120.0            t  0.82            t  146.0            f   \n",
       "\n",
       "      TBG referral_source     Class  \n",
       "1950  NaN           other  negative  \n",
       "\n",
       "[1 rows x 30 columns]"
      ],
      "text/html": [
       "<div>\n",
       "<style scoped>\n",
       "    .dataframe tbody tr th:only-of-type {\n",
       "        vertical-align: middle;\n",
       "    }\n",
       "\n",
       "    .dataframe tbody tr th {\n",
       "        vertical-align: top;\n",
       "    }\n",
       "\n",
       "    .dataframe thead th {\n",
       "        text-align: right;\n",
       "    }\n",
       "</style>\n",
       "<table border=\"1\" class=\"dataframe\">\n",
       "  <thead>\n",
       "    <tr style=\"text-align: right;\">\n",
       "      <th></th>\n",
       "      <th>age</th>\n",
       "      <th>sex</th>\n",
       "      <th>on_thyroxine</th>\n",
       "      <th>query_on_thyroxine</th>\n",
       "      <th>on_antithyroid_medication</th>\n",
       "      <th>sick</th>\n",
       "      <th>pregnant</th>\n",
       "      <th>thyroid_surgery</th>\n",
       "      <th>I131_treatment</th>\n",
       "      <th>query_hypothyroid</th>\n",
       "      <th>...</th>\n",
       "      <th>TT4_measured</th>\n",
       "      <th>TT4</th>\n",
       "      <th>T4U_measured</th>\n",
       "      <th>T4U</th>\n",
       "      <th>FTI_measured</th>\n",
       "      <th>FTI</th>\n",
       "      <th>TBG_measured</th>\n",
       "      <th>TBG</th>\n",
       "      <th>referral_source</th>\n",
       "      <th>Class</th>\n",
       "    </tr>\n",
       "  </thead>\n",
       "  <tbody>\n",
       "    <tr>\n",
       "      <th>1950</th>\n",
       "      <td>NaN</td>\n",
       "      <td>F</td>\n",
       "      <td>t</td>\n",
       "      <td>f</td>\n",
       "      <td>f</td>\n",
       "      <td>f</td>\n",
       "      <td>f</td>\n",
       "      <td>f</td>\n",
       "      <td>t</td>\n",
       "      <td>f</td>\n",
       "      <td>...</td>\n",
       "      <td>t</td>\n",
       "      <td>120.0</td>\n",
       "      <td>t</td>\n",
       "      <td>0.82</td>\n",
       "      <td>t</td>\n",
       "      <td>146.0</td>\n",
       "      <td>f</td>\n",
       "      <td>NaN</td>\n",
       "      <td>other</td>\n",
       "      <td>negative</td>\n",
       "    </tr>\n",
       "  </tbody>\n",
       "</table>\n",
       "<p>1 rows × 30 columns</p>\n",
       "</div>"
      ]
     },
     "execution_count": 4,
     "metadata": {},
     "output_type": "execute_result"
    }
   ],
   "execution_count": 4
  },
  {
   "metadata": {},
   "cell_type": "markdown",
   "source": [
    "- sex tiene 3 categorías\n",
    "- las 2 de TBG fuera\n",
    "- NaNs: regresión lineal\n",
    "- Age quitar la fila con nan en Edad"
   ],
   "id": "7cfa45db332f9f05"
  },
  {
   "metadata": {
    "ExecuteTime": {
     "end_time": "2024-10-04T10:10:40.410668Z",
     "start_time": "2024-10-04T10:10:40.386254Z"
    }
   },
   "cell_type": "code",
   "source": [
    "for col in df_sick_train.columns:\n",
    "    print(f'{col}: {df_sick_train[col].unique()}')"
   ],
   "id": "5e5495c7b3764f5e",
   "outputs": [
    {
     "name": "stdout",
     "output_type": "stream",
     "text": [
      "age: [0.07929515 0.14317181 0.17180617 0.16740088 0.13436123 0.12114537\n",
      " 0.17621145 0.11674009 0.16960352 0.07268722 0.15638767 0.15198238\n",
      " 0.16299559 0.04185022 0.05947137 0.11453744 0.07488987 0.15859031\n",
      " 0.03744493 0.08370044 0.1123348  0.04845815 0.0969163  0.06387665\n",
      " 0.07048458 0.13215859 0.06167401 0.06828194 0.1784141  0.10572687\n",
      " 0.12334802 0.1277533  0.09251101 0.11013216 0.1938326  0.16079295\n",
      " 0.14757709 0.04405286 0.02202643 0.0660793  0.17400881 0.13876652\n",
      " 0.14096916 0.08590308 0.09030837 0.09471366 0.01321586 0.16519824\n",
      " 0.11894273 0.13656388 0.08810573 0.0814978  0.10792952 0.14537445\n",
      " 0.05286344 0.05066079 0.14977974 0.04625551 0.07709251 0.03964758\n",
      " 0.12555066 0.10352423 0.12995595 0.03524229 0.09911894 0.18061674\n",
      " 0.15418502 0.05506608 0.18942731 0.030837   0.05726872 0.00881057\n",
      " 0.02863436 0.10132159 0.02643172 0.19603524 0.0154185  0.19823789\n",
      " 0.         0.18281938 0.01101322 0.18502203 0.03303965 0.19162996\n",
      " 0.18722467 0.01982379 0.02422907 0.00220264 0.00660793 0.20044053\n",
      " 0.20484581 0.20264317 1.                nan]\n",
      "on_thyroxine: [ 1.  0. nan]\n",
      "query_on_thyroxine: [ 0.  1. nan]\n",
      "on_antithyroid_medication: [ 0.  1. nan]\n",
      "sick: [ 0.  1. nan]\n",
      "pregnant: [ 0.  1. nan]\n",
      "thyroid_surgery: [ 0.  1. nan]\n",
      "I131_treatment: [ 0.  1. nan]\n",
      "query_hypothyroid: [ 0.  1. nan]\n",
      "query_hyperthyroid: [ 0.  1. nan]\n",
      "lithium: [ 0.  1. nan]\n",
      "goitre: [ 0.  1. nan]\n",
      "tumor: [ 0.  1. nan]\n",
      "hypopituitary: [ 0.  1. nan]\n",
      "psych: [ 0.  1. nan]\n",
      "TSH_measured: [ 1.  0. nan]\n",
      "TSH: [2.10e-01 2.60e+00 3.00e-01 8.40e-01 3.50e+00 1.80e+01 3.40e+00      nan\n",
      " 1.30e+00 2.40e+00 8.90e-01 1.10e+00 3.40e-01 5.00e-03 9.00e-01 1.50e-01\n",
      " 2.00e-01 1.00e-01 1.20e+00 8.50e+00 5.00e-02 1.40e+00 1.30e-01 2.50e+00\n",
      " 3.00e+00 7.80e+01 2.50e-01 2.30e+00 4.10e+00 3.20e+00 1.50e+00 6.30e+00\n",
      " 5.00e-01 2.00e+00 2.20e+00 4.20e+01 5.10e+00 6.00e+00 4.00e-01 1.20e+01\n",
      " 2.00e-02 5.20e+01 5.90e+00 9.40e-01 3.60e+00 7.50e+00 2.80e-01 1.00e+02\n",
      " 7.10e+00 4.40e+00 2.80e+00 7.20e-01 1.60e+01 5.60e+00 1.00e+00 2.10e+00\n",
      " 8.20e+00 5.00e+00 1.60e+00 7.00e-01 7.90e+00 5.70e+00 8.00e-02 1.70e+00\n",
      " 1.90e+00 6.00e-01 3.00e-02 1.10e+01 4.30e+00 6.50e+00 2.90e+00 1.80e+00\n",
      " 8.30e-01 4.00e+00 4.60e+00 8.00e-01 9.70e-01 4.20e+00 1.00e-02 8.90e+00\n",
      " 4.90e+00 3.10e+00 9.60e-01 9.20e+00 4.50e+01 3.70e+00 1.20e-01 5.80e+01\n",
      " 8.10e-01 5.40e+00 9.30e-01 1.14e+01 5.10e-01 4.00e-02 9.50e+00 1.39e+02\n",
      " 5.80e+00 2.20e-01 5.50e+00 3.90e+00 3.30e+00 6.50e-02 1.70e-01 7.80e-01\n",
      " 1.70e+01 8.70e-01 2.50e-02 5.20e+00 1.60e+02 2.70e+01 5.50e-01 4.20e-01\n",
      " 2.70e+00 6.30e-01 3.80e-01 4.60e-01 3.20e-01 1.50e-02 9.00e-02 6.70e-01\n",
      " 2.10e+01 2.00e+01 1.30e+01 3.30e-01 6.10e+00 2.60e-01 7.30e-01 8.80e-01\n",
      " 1.03e+02 9.00e+00 5.30e-01 2.50e+01 8.10e+00 9.80e-01 1.01e+00 9.10e-01\n",
      " 6.10e-01 7.60e+00 3.60e+01 6.80e-01 5.80e-01 2.80e+01 4.50e-02 1.16e+02\n",
      " 7.70e-01 1.84e+01 5.50e+01 4.30e+01 1.50e+01 6.20e+00 6.00e-02 4.50e+00\n",
      " 3.50e-02 6.90e+00 6.00e+01 9.50e-01 4.70e+00 8.60e+00 3.90e-01 6.40e-01\n",
      " 7.00e-02 3.80e+00 3.30e+01 8.20e-01 3.50e-01 9.60e+00 6.40e+00 1.83e+02\n",
      " 2.20e+01 1.51e+02 4.40e+01 8.50e-01 7.40e-01 3.05e+01 6.90e-01 7.60e-01\n",
      " 3.10e+01 5.20e-01 1.21e+01 5.30e+00 4.50e-01 7.80e+00 4.30e-01 4.40e-01\n",
      " 7.10e-01 6.20e-01 3.70e-01 8.40e+00 5.90e-01 4.90e-01 6.60e+00 1.78e+02\n",
      " 1.90e-01 8.60e-01 5.40e-01 6.50e-01 8.90e+01 9.10e+00 4.80e-01 3.40e+01\n",
      " 2.40e+01 2.70e-01 6.80e+00 2.30e+01 8.30e+00 9.80e+01 9.20e-01 1.40e-01\n",
      " 5.60e-01 4.10e-01 7.40e+00 1.40e+01 7.50e-01 4.70e-01 1.90e+01 2.36e+02\n",
      " 7.20e+00 4.72e+02 9.90e-01 7.00e+00 1.26e+02 1.60e-01 9.70e+00 6.70e+00\n",
      " 1.11e+01 3.90e+01 5.00e+01 2.60e+01 3.60e-01 2.40e-01 7.30e+00 4.40e+02\n",
      " 8.00e+01 9.40e+00 7.90e-01 9.90e+01 1.99e+02 9.30e+00 5.10e+01 4.10e+01\n",
      " 4.60e+01 9.80e+00 6.50e+01 4.70e+01 5.70e-01 7.00e+01 1.65e+02 7.60e+01\n",
      " 4.00e+01 3.20e+01 1.00e+01 4.00e+02 2.90e+01 8.80e+00 2.30e+02 4.78e+02\n",
      " 6.60e+01 3.00e+01 5.40e+01 6.60e-01 4.80e+00 3.50e+01 3.10e-01 8.00e+00\n",
      " 6.10e+01 9.90e+00 1.80e-01 1.43e+02 1.45e+02 8.20e+01 1.09e+02 1.08e+02\n",
      " 3.80e+01 2.64e+01 7.70e+00 2.90e-01 2.30e-01 5.50e-02 1.03e+01 1.17e+02\n",
      " 1.02e+00]\n",
      "T3_measured: [ 0.  1. nan]\n",
      "T3: [  nan  2.3   1.6   0.8   0.3   1.3   1.2   2.2   1.8   1.4   1.7   2.4\n",
      "  3.7   2.1   1.5   2.9   3.4   6.7   2.7   2.5   1.1   2.6   0.2   1.9\n",
      "  2.    0.5   0.4   2.8   0.6   0.7   0.9   4.1   3.1   3.2   3.3   1.\n",
      "  3.9   5.5   4.    5.3   3.    7.6   4.8   0.1  10.6   0.05  4.3   3.5\n",
      "  6.1   4.2   5.4   3.8   3.6   4.5   4.9   1.44  5.    6.    4.4   7.\n",
      "  6.6   4.7   6.2   7.1   4.6   5.7   5.1   5.2 ]\n",
      "TT4_measured: [ 1.  0. nan]\n",
      "TT4: [156.   68.  120.   94.   91.   44.   92.    nan 147.  116.  103.   93.\n",
      " 100.   71.  123.  133.  172.  139.   77.   74.  104.  112.   97.   87.\n",
      " 165.  121.  106.   78.  230.   80.  117.   76.  135.   56.   90.   84.\n",
      "  85.   88.  108.   18.  119.  107.   99.  118.  175.   81.  140.   28.\n",
      "  61.   57.   89.  130.   10.   79.   95.  101.  105.   72.  110.  127.\n",
      " 161.   75.  134.   96.  177.   67.   66.  113.   82.  102.  143.  137.\n",
      " 183.  114.  181.   83.  126.  141.  138.  187.  150.   98.  131.   54.\n",
      "  86.  129.  207.  125.   45.   70.  154.  157.  205.  109.  132.  170.\n",
      " 122.   39.  115.  124.  160.   59.   36.  191.  167.  142.  232.  151.\n",
      " 258.  272.   73.    9.5 128.  192.  163.  146.   40.  257.   50.  169.\n",
      " 226.  111.    4.8 214.   38.  178.  189.  149.   31.  237.  136.   53.\n",
      " 158.  159.   23.   63.  225.  184.  209.  213.  162.  253.  176.  197.\n",
      "  48.  152.  217.   41.   13.   60.   62.   65.  164.  144.  180.   58.\n",
      " 220.   64.  174.   32.  248.  148.   69.  203.  153.   52.   15.  301.\n",
      " 145.  244.   51.  250.  200.   46.  239.   33.   14.  210.    5.8 204.\n",
      " 193.    3.  194.  155.  179.   16.   43.   22.  212.   34.   29.  195.\n",
      " 182.  166.   35.   24.  168.    6.  246.   12.  255.    4.    2.   19.\n",
      "   2.9  37.   17.  173.  219.  223.  171.  256.   11.   47.  198.   30.\n",
      " 199.  252.  289.  261.  430.  233.  263.  372.  273.  231.  186.  196.\n",
      "  49.  235.  201.  188.  240.   25.  211.  222.   55. ]\n",
      "T4U_measured: [ 1.  0. nan]\n",
      "T4U: [0.84  0.94  0.91  0.86  0.99  0.56  0.89    nan 1.06  1.03  0.98  0.9\n",
      " 0.8   1.08  0.97  1.67  1.    0.79  1.16  1.13  0.77  0.95  1.52  1.02\n",
      " 0.81  1.17  1.73  1.51  0.85  0.72  0.92  1.09  0.93  1.05  1.11  1.12\n",
      " 1.14  0.71  1.04  0.96  1.01  1.15  1.33  1.26  1.24  1.46  0.88  0.62\n",
      " 1.31  1.41  1.65  1.21  0.73  0.65  1.69  1.2   0.76  1.18  1.57  1.22\n",
      " 1.19  1.49  0.47  0.58  1.1   0.78  1.34  1.7   0.83  0.75  1.61  1.63\n",
      " 0.63  1.07  1.3   0.87  0.68  0.82  1.35  0.7   1.29  1.44  1.25  0.66\n",
      " 1.53  0.31  1.23  0.74  0.52  1.27  1.82  1.28  1.38  1.68  1.8   1.45\n",
      " 1.47  1.4   1.94  0.64  1.43  1.48  0.6   1.36  1.39  1.55  0.53  1.42\n",
      " 1.76  0.61  1.5   0.5   0.46  1.59  1.83  1.97  1.75  1.62  0.25  0.67\n",
      " 1.56  2.12  1.71  0.54  2.03  1.93  0.41  1.88  1.77  1.66  0.49  1.32\n",
      " 0.48  0.69  0.59  1.79  1.37  2.32  1.74  1.58  0.36  0.57  1.84  0.944]\n",
      "FTI_measured: [ 1.  0. nan]\n",
      "FTI: [187.   72.  132.  109.   91.   77.  104.    nan 138.  112.  105.  103.\n",
      " 124.   66.  125.  135.  139.   97.   63.   92.  145.   94.  108.  118.\n",
      " 114.   67.  133.   93.   78.   88.   95.   65.  106.   79.  102.   86.\n",
      "  16.  101.   99.   98.  156.   74.   33.  110.  128.   10.   83.   85.\n",
      " 111.  107.  122.  121.   68.  120.  127.   96.  149.  161.  160.   56.\n",
      "  70.  115.  134.  130.  123.   84.  150.  117.   81.  142.  116.  136.\n",
      "  82.  151.  129.   90.  137.   87.  152.  153.  172.  186.   89.  100.\n",
      " 171.  204.   69.  113.  140.  155.   40.  194.   76.  154.  119.  189.\n",
      " 174.   73.  169.  227.  281.  147.  126.  131.  173.   71.   75.   80.\n",
      "  42.  214.  206.  349.    5.4 245.  176.  203.  170.  143.   61.  141.\n",
      "  35.  228.   60.   34.   64.  213.  148.  222.   43.  195.  158.  221.\n",
      " 197.   13.  180.  164.  188.  159.  144.  157.   46.  200.   28.  165.\n",
      "  54.  163.  224.  179.   51.   11.  166.   14.   62.  205.  362.  182.\n",
      " 178.  162.  167.  196.  312.   59.  184.   58.    9.   47.  265.  199.\n",
      "   7.  191.    3.  209.   17.  190.  210.   29.   26.   37.  146.  237.\n",
      " 177.  207.  280.  168.  185.  215.  242.   18.   36.    7.6 232.  217.\n",
      " 244.    4.   49.  175.  216.    2.   50.    2.8  41.  201.   19.  274.\n",
      " 283.    9.1  48.   27.   21.  219.   53.  218.   55.  181.    8.4 198.\n",
      " 395.   24.  253.  291.  251.  183.  235.   57.  223.   52.  220.   20.\n",
      " 247.    8.9  15. ]\n",
      "TBG_measured: [ 0. nan]\n",
      "TBG: [nan]\n",
      "Class: ['negative' 'sick' nan]\n",
      "sex_?: [ 0.  1. nan]\n",
      "sex_F: [ 1.  0. nan]\n",
      "sex_M: [ 0.  1. nan]\n",
      "referral_source_STMW: [ 0.  1. nan]\n",
      "referral_source_SVHC: [ 0.  1. nan]\n",
      "referral_source_SVHD: [ 0.  1. nan]\n",
      "referral_source_SVI: [ 0.  1. nan]\n",
      "referral_source_other: [ 1.  0. nan]\n"
     ]
    }
   ],
   "execution_count": 18
  },
  {
   "metadata": {
    "ExecuteTime": {
     "end_time": "2024-10-04T10:08:05.669437Z",
     "start_time": "2024-10-04T10:08:05.642401Z"
    }
   },
   "cell_type": "code",
   "source": [
    "columns_with_nans = []\n",
    "for col in df_sick_train.columns:\n",
    "    sum_nans = sum(df_sick_train[col].isna())\n",
    "    if sum_nans / len(df_sick_train) * 100> 0.5:\n",
    "        print(f'{col}: {sum_nans}')\n",
    "        columns_with_nans.append(col)"
   ],
   "id": "677e8417ca60ba05",
   "outputs": [
    {
     "name": "stdout",
     "output_type": "stream",
     "text": [
      "TSH: 331\n",
      "T3: 689\n",
      "TT4: 209\n",
      "T4U: 356\n",
      "FTI: 354\n",
      "TBG: 3396\n"
     ]
    }
   ],
   "execution_count": 6
  },
  {
   "metadata": {
    "ExecuteTime": {
     "end_time": "2024-10-04T10:08:05.825511Z",
     "start_time": "2024-10-04T10:08:05.800315Z"
    }
   },
   "cell_type": "code",
   "source": "df_sick_test.head()",
   "id": "e5f81e7e3778cbad",
   "outputs": [
    {
     "data": {
      "text/plain": [
       "    age sex on_thyroxine query_on_thyroxine on_antithyroid_medication sick  \\\n",
       "0  37.0   F            t                  f                         f    f   \n",
       "1  37.0   M            f                  f                         f    f   \n",
       "2  66.0   F            t                  f                         f    f   \n",
       "3  79.0   F            f                  f                         f    f   \n",
       "4  79.0   F            f                  f                         f    f   \n",
       "\n",
       "  pregnant thyroid_surgery I131_treatment query_hypothyroid  ... TT4_measured  \\\n",
       "0        f               f              f                 f  ...            t   \n",
       "1        f               f              f                 f  ...            t   \n",
       "2        f               f              f                 f  ...            t   \n",
       "3        f               f              f                 f  ...            t   \n",
       "4        f               f              f                 f  ...            t   \n",
       "\n",
       "     TT4 T4U_measured   T4U FTI_measured    FTI TBG_measured  TBG  \\\n",
       "0  156.0            t  0.84            t  187.0            f  NaN   \n",
       "1   68.0            t  0.94            t   72.0            f  NaN   \n",
       "2  120.0            t  0.91            t  132.0            f  NaN   \n",
       "3   94.0            t  0.86            t  109.0            f  NaN   \n",
       "4   91.0            t  0.99            t   91.0            f  NaN   \n",
       "\n",
       "  referral_source     Class  \n",
       "0           other  negative  \n",
       "1           other  negative  \n",
       "2           other  negative  \n",
       "3           other      sick  \n",
       "4           other  negative  \n",
       "\n",
       "[5 rows x 30 columns]"
      ],
      "text/html": [
       "<div>\n",
       "<style scoped>\n",
       "    .dataframe tbody tr th:only-of-type {\n",
       "        vertical-align: middle;\n",
       "    }\n",
       "\n",
       "    .dataframe tbody tr th {\n",
       "        vertical-align: top;\n",
       "    }\n",
       "\n",
       "    .dataframe thead th {\n",
       "        text-align: right;\n",
       "    }\n",
       "</style>\n",
       "<table border=\"1\" class=\"dataframe\">\n",
       "  <thead>\n",
       "    <tr style=\"text-align: right;\">\n",
       "      <th></th>\n",
       "      <th>age</th>\n",
       "      <th>sex</th>\n",
       "      <th>on_thyroxine</th>\n",
       "      <th>query_on_thyroxine</th>\n",
       "      <th>on_antithyroid_medication</th>\n",
       "      <th>sick</th>\n",
       "      <th>pregnant</th>\n",
       "      <th>thyroid_surgery</th>\n",
       "      <th>I131_treatment</th>\n",
       "      <th>query_hypothyroid</th>\n",
       "      <th>...</th>\n",
       "      <th>TT4_measured</th>\n",
       "      <th>TT4</th>\n",
       "      <th>T4U_measured</th>\n",
       "      <th>T4U</th>\n",
       "      <th>FTI_measured</th>\n",
       "      <th>FTI</th>\n",
       "      <th>TBG_measured</th>\n",
       "      <th>TBG</th>\n",
       "      <th>referral_source</th>\n",
       "      <th>Class</th>\n",
       "    </tr>\n",
       "  </thead>\n",
       "  <tbody>\n",
       "    <tr>\n",
       "      <th>0</th>\n",
       "      <td>37.0</td>\n",
       "      <td>F</td>\n",
       "      <td>t</td>\n",
       "      <td>f</td>\n",
       "      <td>f</td>\n",
       "      <td>f</td>\n",
       "      <td>f</td>\n",
       "      <td>f</td>\n",
       "      <td>f</td>\n",
       "      <td>f</td>\n",
       "      <td>...</td>\n",
       "      <td>t</td>\n",
       "      <td>156.0</td>\n",
       "      <td>t</td>\n",
       "      <td>0.84</td>\n",
       "      <td>t</td>\n",
       "      <td>187.0</td>\n",
       "      <td>f</td>\n",
       "      <td>NaN</td>\n",
       "      <td>other</td>\n",
       "      <td>negative</td>\n",
       "    </tr>\n",
       "    <tr>\n",
       "      <th>1</th>\n",
       "      <td>37.0</td>\n",
       "      <td>M</td>\n",
       "      <td>f</td>\n",
       "      <td>f</td>\n",
       "      <td>f</td>\n",
       "      <td>f</td>\n",
       "      <td>f</td>\n",
       "      <td>f</td>\n",
       "      <td>f</td>\n",
       "      <td>f</td>\n",
       "      <td>...</td>\n",
       "      <td>t</td>\n",
       "      <td>68.0</td>\n",
       "      <td>t</td>\n",
       "      <td>0.94</td>\n",
       "      <td>t</td>\n",
       "      <td>72.0</td>\n",
       "      <td>f</td>\n",
       "      <td>NaN</td>\n",
       "      <td>other</td>\n",
       "      <td>negative</td>\n",
       "    </tr>\n",
       "    <tr>\n",
       "      <th>2</th>\n",
       "      <td>66.0</td>\n",
       "      <td>F</td>\n",
       "      <td>t</td>\n",
       "      <td>f</td>\n",
       "      <td>f</td>\n",
       "      <td>f</td>\n",
       "      <td>f</td>\n",
       "      <td>f</td>\n",
       "      <td>f</td>\n",
       "      <td>f</td>\n",
       "      <td>...</td>\n",
       "      <td>t</td>\n",
       "      <td>120.0</td>\n",
       "      <td>t</td>\n",
       "      <td>0.91</td>\n",
       "      <td>t</td>\n",
       "      <td>132.0</td>\n",
       "      <td>f</td>\n",
       "      <td>NaN</td>\n",
       "      <td>other</td>\n",
       "      <td>negative</td>\n",
       "    </tr>\n",
       "    <tr>\n",
       "      <th>3</th>\n",
       "      <td>79.0</td>\n",
       "      <td>F</td>\n",
       "      <td>f</td>\n",
       "      <td>f</td>\n",
       "      <td>f</td>\n",
       "      <td>f</td>\n",
       "      <td>f</td>\n",
       "      <td>f</td>\n",
       "      <td>f</td>\n",
       "      <td>f</td>\n",
       "      <td>...</td>\n",
       "      <td>t</td>\n",
       "      <td>94.0</td>\n",
       "      <td>t</td>\n",
       "      <td>0.86</td>\n",
       "      <td>t</td>\n",
       "      <td>109.0</td>\n",
       "      <td>f</td>\n",
       "      <td>NaN</td>\n",
       "      <td>other</td>\n",
       "      <td>sick</td>\n",
       "    </tr>\n",
       "    <tr>\n",
       "      <th>4</th>\n",
       "      <td>79.0</td>\n",
       "      <td>F</td>\n",
       "      <td>f</td>\n",
       "      <td>f</td>\n",
       "      <td>f</td>\n",
       "      <td>f</td>\n",
       "      <td>f</td>\n",
       "      <td>f</td>\n",
       "      <td>f</td>\n",
       "      <td>f</td>\n",
       "      <td>...</td>\n",
       "      <td>t</td>\n",
       "      <td>91.0</td>\n",
       "      <td>t</td>\n",
       "      <td>0.99</td>\n",
       "      <td>t</td>\n",
       "      <td>91.0</td>\n",
       "      <td>f</td>\n",
       "      <td>NaN</td>\n",
       "      <td>other</td>\n",
       "      <td>negative</td>\n",
       "    </tr>\n",
       "  </tbody>\n",
       "</table>\n",
       "<p>5 rows × 30 columns</p>\n",
       "</div>"
      ]
     },
     "execution_count": 7,
     "metadata": {},
     "output_type": "execute_result"
    }
   ],
   "execution_count": 7
  },
  {
   "metadata": {},
   "cell_type": "markdown",
   "source": "#### Drop rows age",
   "id": "d3bf2b0861779b79"
  },
  {
   "metadata": {},
   "cell_type": "markdown",
   "source": "#### Min-max scaler",
   "id": "6de0af4738d9e727"
  },
  {
   "metadata": {
    "ExecuteTime": {
     "end_time": "2024-10-04T10:08:07.174580Z",
     "start_time": "2024-10-04T10:08:06.038143Z"
    }
   },
   "cell_type": "code",
   "source": [
    "from utils import min_max_scaler\n",
    "\n",
    "df_sick_train, df_sick_test = min_max_scaler(df_sick_train,df_sick_test, ['age'])"
   ],
   "id": "b59d9fd4eb0b70c0",
   "outputs": [
    {
     "name": "stderr",
     "output_type": "stream",
     "text": [
      "C:\\Users\\xavid\\Documents\\GitHub\\IML-Work2\\pythonProject\\utils.py:30: SettingWithCopyWarning: \n",
      "A value is trying to be set on a copy of a slice from a DataFrame.\n",
      "Try using .loc[row_indexer,col_indexer] = value instead\n",
      "\n",
      "See the caveats in the documentation: https://pandas.pydata.org/pandas-docs/stable/user_guide/indexing.html#returning-a-view-versus-a-copy\n",
      "  df_train[numerical_cols] = scaler.transform(df_train[numerical_cols])\n",
      "C:\\Users\\xavid\\Documents\\GitHub\\IML-Work2\\pythonProject\\utils.py:31: SettingWithCopyWarning: \n",
      "A value is trying to be set on a copy of a slice from a DataFrame.\n",
      "Try using .loc[row_indexer,col_indexer] = value instead\n",
      "\n",
      "See the caveats in the documentation: https://pandas.pydata.org/pandas-docs/stable/user_guide/indexing.html#returning-a-view-versus-a-copy\n",
      "  df_test[numerical_cols] = scaler.transform(df_test[numerical_cols])\n"
     ]
    }
   ],
   "execution_count": 8
  },
  {
   "metadata": {
    "ExecuteTime": {
     "end_time": "2024-10-04T10:10:19.853410Z",
     "start_time": "2024-10-04T10:10:19.823861Z"
    }
   },
   "cell_type": "code",
   "source": [
    "from utils import one_hot_encoding\n",
    "\n",
    "df_sick_train, df_sick_test = one_hot_encoding(df_sick_train,df_sick_test)"
   ],
   "id": "877fd527324e6a2f",
   "outputs": [],
   "execution_count": 16
  },
  {
   "metadata": {
    "ExecuteTime": {
     "end_time": "2024-10-04T10:08:07.503600Z",
     "start_time": "2024-10-04T10:08:07.417912Z"
    }
   },
   "cell_type": "code",
   "source": [
    "from utils import binary_encoding\n",
    "df_sick_train, df_sick_test = binary_encoding(df_sick_train,df_sick_test)"
   ],
   "id": "93047ca68287d6e0",
   "outputs": [
    {
     "name": "stderr",
     "output_type": "stream",
     "text": [
      "C:\\Users\\xavid\\Documents\\GitHub\\IML-Work2\\pythonProject\\utils.py:65: FutureWarning: Downcasting behavior in `replace` is deprecated and will be removed in a future version. To retain the old behavior, explicitly call `result.infer_objects(copy=False)`. To opt-in to the future behavior, set `pd.set_option('future.no_silent_downcasting', True)`\n",
      "  df_train[binary_features] = df_train[binary_features].replace({'t': 1, 'f': 0})\n",
      "C:\\Users\\xavid\\Documents\\GitHub\\IML-Work2\\pythonProject\\utils.py:66: FutureWarning: Downcasting behavior in `replace` is deprecated and will be removed in a future version. To retain the old behavior, explicitly call `result.infer_objects(copy=False)`. To opt-in to the future behavior, set `pd.set_option('future.no_silent_downcasting', True)`\n",
      "  df_test[binary_features] = df_test[binary_features].replace({'t': 1, 'f': 0})\n"
     ]
    }
   ],
   "execution_count": 10
  },
  {
   "metadata": {
    "ExecuteTime": {
     "end_time": "2024-10-04T10:11:36.376635Z",
     "start_time": "2024-10-04T10:11:36.357662Z"
    }
   },
   "cell_type": "code",
   "source": "df_sick_train['Class'].nunique()",
   "id": "974f4df5f4a4c097",
   "outputs": [
    {
     "data": {
      "text/plain": [
       "2"
      ]
     },
     "execution_count": 23,
     "metadata": {},
     "output_type": "execute_result"
    }
   ],
   "execution_count": 23
  },
  {
   "metadata": {
    "ExecuteTime": {
     "end_time": "2024-10-04T10:08:08.061319Z",
     "start_time": "2024-10-04T10:08:07.600141Z"
    }
   },
   "cell_type": "code",
   "source": [
    "from utils import fill_nans\n",
    "df_sick_train, df_sick_test = fill_nans(df_sick_train, df_sick_test, columns_with_nans)"
   ],
   "id": "af4b58fc0f96334d",
   "outputs": [
    {
     "ename": "ValueError",
     "evalue": "could not convert string to float: 'negative'",
     "output_type": "error",
     "traceback": [
      "\u001B[1;31m---------------------------------------------------------------------------\u001B[0m",
      "\u001B[1;31mValueError\u001B[0m                                Traceback (most recent call last)",
      "\u001B[1;32m~\\AppData\\Local\\Temp\\ipykernel_17396\\4140544249.py\u001B[0m in \u001B[0;36m?\u001B[1;34m()\u001B[0m\n\u001B[1;32m----> 2\u001B[1;33m \u001B[1;32mfrom\u001B[0m \u001B[0mutils\u001B[0m \u001B[1;32mimport\u001B[0m \u001B[0mfill_nans\u001B[0m\u001B[1;33m\u001B[0m\u001B[1;33m\u001B[0m\u001B[0m\n\u001B[0m\u001B[0;32m      3\u001B[0m \u001B[0mdf_sick_train\u001B[0m\u001B[1;33m,\u001B[0m \u001B[0mdf_sick_test\u001B[0m \u001B[1;33m=\u001B[0m \u001B[0mfill_nans\u001B[0m\u001B[1;33m(\u001B[0m\u001B[0mdf_sick_train\u001B[0m\u001B[1;33m,\u001B[0m \u001B[0mdf_sick_test\u001B[0m\u001B[1;33m,\u001B[0m \u001B[0mcolumns_with_nans\u001B[0m\u001B[1;33m)\u001B[0m\u001B[1;33m\u001B[0m\u001B[1;33m\u001B[0m\u001B[0m\n",
      "\u001B[1;32m~\\Documents\\GitHub\\IML-Work2\\pythonProject\\utils.py\u001B[0m in \u001B[0;36m?\u001B[1;34m(df_train, df_test, columns_predict)\u001B[0m\n\u001B[0;32m     75\u001B[0m \u001B[1;33m\u001B[0m\u001B[0m\n\u001B[0;32m     76\u001B[0m     \u001B[0mx\u001B[0m \u001B[1;33m=\u001B[0m \u001B[0mpd\u001B[0m\u001B[1;33m.\u001B[0m\u001B[0mconcat\u001B[0m\u001B[1;33m(\u001B[0m\u001B[1;33m(\u001B[0m\u001B[0mdf_train\u001B[0m\u001B[1;33m[\u001B[0m\u001B[0mcolumns_train\u001B[0m\u001B[1;33m]\u001B[0m\u001B[1;33m,\u001B[0m \u001B[0mdf_test\u001B[0m\u001B[1;33m[\u001B[0m\u001B[0mcolumns_train\u001B[0m\u001B[1;33m]\u001B[0m\u001B[1;33m)\u001B[0m\u001B[1;33m)\u001B[0m\u001B[1;33m\u001B[0m\u001B[1;33m\u001B[0m\u001B[0m\n\u001B[0;32m     77\u001B[0m     \u001B[0my\u001B[0m \u001B[1;33m=\u001B[0m \u001B[0mpd\u001B[0m\u001B[1;33m.\u001B[0m\u001B[0mconcat\u001B[0m\u001B[1;33m(\u001B[0m\u001B[1;33m(\u001B[0m\u001B[0mdf_train\u001B[0m\u001B[1;33m[\u001B[0m\u001B[0mcolumns_predict\u001B[0m\u001B[1;33m]\u001B[0m\u001B[1;33m,\u001B[0m \u001B[0mdf_test\u001B[0m\u001B[1;33m[\u001B[0m\u001B[0mcolumns_predict\u001B[0m\u001B[1;33m]\u001B[0m\u001B[1;33m)\u001B[0m\u001B[1;33m)\u001B[0m\u001B[1;33m\u001B[0m\u001B[1;33m\u001B[0m\u001B[0m\n\u001B[0;32m     78\u001B[0m \u001B[1;33m\u001B[0m\u001B[0m\n\u001B[1;32m---> 79\u001B[1;33m     \u001B[0mmodel\u001B[0m\u001B[1;33m.\u001B[0m\u001B[0mfit\u001B[0m\u001B[1;33m(\u001B[0m\u001B[0mx\u001B[0m\u001B[1;33m,\u001B[0m \u001B[0my\u001B[0m\u001B[1;33m)\u001B[0m\u001B[1;33m\u001B[0m\u001B[1;33m\u001B[0m\u001B[0m\n\u001B[0m\u001B[0;32m     80\u001B[0m \u001B[1;33m\u001B[0m\u001B[0m\n\u001B[0;32m     81\u001B[0m     \u001B[0mdf_train\u001B[0m\u001B[1;33m[\u001B[0m\u001B[0mcolumns_predict\u001B[0m\u001B[1;33m]\u001B[0m \u001B[1;33m=\u001B[0m \u001B[0mmodel\u001B[0m\u001B[1;33m.\u001B[0m\u001B[0mpredict\u001B[0m\u001B[1;33m(\u001B[0m\u001B[0mdf_train\u001B[0m\u001B[1;33m[\u001B[0m\u001B[0mcolumns_train\u001B[0m\u001B[1;33m]\u001B[0m\u001B[1;33m)\u001B[0m\u001B[1;33m\u001B[0m\u001B[1;33m\u001B[0m\u001B[0m\n\u001B[0;32m     82\u001B[0m     \u001B[0mdf_test\u001B[0m\u001B[1;33m[\u001B[0m\u001B[0mcolumns_predict\u001B[0m\u001B[1;33m]\u001B[0m \u001B[1;33m=\u001B[0m \u001B[0mmodel\u001B[0m\u001B[1;33m.\u001B[0m\u001B[0mpredict\u001B[0m\u001B[1;33m(\u001B[0m\u001B[0mdf_test\u001B[0m\u001B[1;33m[\u001B[0m\u001B[0mcolumns_train\u001B[0m\u001B[1;33m]\u001B[0m\u001B[1;33m)\u001B[0m\u001B[1;33m\u001B[0m\u001B[1;33m\u001B[0m\u001B[0m\n",
      "\u001B[1;32m~\\anaconda3\\envs\\ML\\lib\\site-packages\\sklearn\\base.py\u001B[0m in \u001B[0;36m?\u001B[1;34m(estimator, *args, **kwargs)\u001B[0m\n\u001B[0;32m   1469\u001B[0m                 skip_parameter_validation=(\n\u001B[0;32m   1470\u001B[0m                     \u001B[0mprefer_skip_nested_validation\u001B[0m \u001B[1;32mor\u001B[0m \u001B[0mglobal_skip_validation\u001B[0m\u001B[1;33m\u001B[0m\u001B[1;33m\u001B[0m\u001B[0m\n\u001B[0;32m   1471\u001B[0m                 )\n\u001B[0;32m   1472\u001B[0m             ):\n\u001B[1;32m-> 1473\u001B[1;33m                 \u001B[1;32mreturn\u001B[0m \u001B[0mfit_method\u001B[0m\u001B[1;33m(\u001B[0m\u001B[0mestimator\u001B[0m\u001B[1;33m,\u001B[0m \u001B[1;33m*\u001B[0m\u001B[0margs\u001B[0m\u001B[1;33m,\u001B[0m \u001B[1;33m**\u001B[0m\u001B[0mkwargs\u001B[0m\u001B[1;33m)\u001B[0m\u001B[1;33m\u001B[0m\u001B[1;33m\u001B[0m\u001B[0m\n\u001B[0m",
      "\u001B[1;32m~\\anaconda3\\envs\\ML\\lib\\site-packages\\sklearn\\linear_model\\_base.py\u001B[0m in \u001B[0;36m?\u001B[1;34m(self, X, y, sample_weight)\u001B[0m\n\u001B[0;32m    605\u001B[0m         \u001B[0mn_jobs_\u001B[0m \u001B[1;33m=\u001B[0m \u001B[0mself\u001B[0m\u001B[1;33m.\u001B[0m\u001B[0mn_jobs\u001B[0m\u001B[1;33m\u001B[0m\u001B[1;33m\u001B[0m\u001B[0m\n\u001B[0;32m    606\u001B[0m \u001B[1;33m\u001B[0m\u001B[0m\n\u001B[0;32m    607\u001B[0m         \u001B[0maccept_sparse\u001B[0m \u001B[1;33m=\u001B[0m \u001B[1;32mFalse\u001B[0m \u001B[1;32mif\u001B[0m \u001B[0mself\u001B[0m\u001B[1;33m.\u001B[0m\u001B[0mpositive\u001B[0m \u001B[1;32melse\u001B[0m \u001B[1;33m[\u001B[0m\u001B[1;34m\"csr\"\u001B[0m\u001B[1;33m,\u001B[0m \u001B[1;34m\"csc\"\u001B[0m\u001B[1;33m,\u001B[0m \u001B[1;34m\"coo\"\u001B[0m\u001B[1;33m]\u001B[0m\u001B[1;33m\u001B[0m\u001B[1;33m\u001B[0m\u001B[0m\n\u001B[0;32m    608\u001B[0m \u001B[1;33m\u001B[0m\u001B[0m\n\u001B[1;32m--> 609\u001B[1;33m         X, y = self._validate_data(\n\u001B[0m\u001B[0;32m    610\u001B[0m             \u001B[0mX\u001B[0m\u001B[1;33m,\u001B[0m\u001B[1;33m\u001B[0m\u001B[1;33m\u001B[0m\u001B[0m\n\u001B[0;32m    611\u001B[0m             \u001B[0my\u001B[0m\u001B[1;33m,\u001B[0m\u001B[1;33m\u001B[0m\u001B[1;33m\u001B[0m\u001B[0m\n\u001B[0;32m    612\u001B[0m             \u001B[0maccept_sparse\u001B[0m\u001B[1;33m=\u001B[0m\u001B[0maccept_sparse\u001B[0m\u001B[1;33m,\u001B[0m\u001B[1;33m\u001B[0m\u001B[1;33m\u001B[0m\u001B[0m\n",
      "\u001B[1;32m~\\anaconda3\\envs\\ML\\lib\\site-packages\\sklearn\\base.py\u001B[0m in \u001B[0;36m?\u001B[1;34m(self, X, y, reset, validate_separately, cast_to_ndarray, **check_params)\u001B[0m\n\u001B[0;32m    646\u001B[0m                 \u001B[1;32mif\u001B[0m \u001B[1;34m\"estimator\"\u001B[0m \u001B[1;32mnot\u001B[0m \u001B[1;32min\u001B[0m \u001B[0mcheck_y_params\u001B[0m\u001B[1;33m:\u001B[0m\u001B[1;33m\u001B[0m\u001B[1;33m\u001B[0m\u001B[0m\n\u001B[0;32m    647\u001B[0m                     \u001B[0mcheck_y_params\u001B[0m \u001B[1;33m=\u001B[0m \u001B[1;33m{\u001B[0m\u001B[1;33m**\u001B[0m\u001B[0mdefault_check_params\u001B[0m\u001B[1;33m,\u001B[0m \u001B[1;33m**\u001B[0m\u001B[0mcheck_y_params\u001B[0m\u001B[1;33m}\u001B[0m\u001B[1;33m\u001B[0m\u001B[1;33m\u001B[0m\u001B[0m\n\u001B[0;32m    648\u001B[0m                 \u001B[0my\u001B[0m \u001B[1;33m=\u001B[0m \u001B[0mcheck_array\u001B[0m\u001B[1;33m(\u001B[0m\u001B[0my\u001B[0m\u001B[1;33m,\u001B[0m \u001B[0minput_name\u001B[0m\u001B[1;33m=\u001B[0m\u001B[1;34m\"y\"\u001B[0m\u001B[1;33m,\u001B[0m \u001B[1;33m**\u001B[0m\u001B[0mcheck_y_params\u001B[0m\u001B[1;33m)\u001B[0m\u001B[1;33m\u001B[0m\u001B[1;33m\u001B[0m\u001B[0m\n\u001B[0;32m    649\u001B[0m             \u001B[1;32melse\u001B[0m\u001B[1;33m:\u001B[0m\u001B[1;33m\u001B[0m\u001B[1;33m\u001B[0m\u001B[0m\n\u001B[1;32m--> 650\u001B[1;33m                 \u001B[0mX\u001B[0m\u001B[1;33m,\u001B[0m \u001B[0my\u001B[0m \u001B[1;33m=\u001B[0m \u001B[0mcheck_X_y\u001B[0m\u001B[1;33m(\u001B[0m\u001B[0mX\u001B[0m\u001B[1;33m,\u001B[0m \u001B[0my\u001B[0m\u001B[1;33m,\u001B[0m \u001B[1;33m**\u001B[0m\u001B[0mcheck_params\u001B[0m\u001B[1;33m)\u001B[0m\u001B[1;33m\u001B[0m\u001B[1;33m\u001B[0m\u001B[0m\n\u001B[0m\u001B[0;32m    651\u001B[0m             \u001B[0mout\u001B[0m \u001B[1;33m=\u001B[0m \u001B[0mX\u001B[0m\u001B[1;33m,\u001B[0m \u001B[0my\u001B[0m\u001B[1;33m\u001B[0m\u001B[1;33m\u001B[0m\u001B[0m\n\u001B[0;32m    652\u001B[0m \u001B[1;33m\u001B[0m\u001B[0m\n\u001B[0;32m    653\u001B[0m         \u001B[1;32mif\u001B[0m \u001B[1;32mnot\u001B[0m \u001B[0mno_val_X\u001B[0m \u001B[1;32mand\u001B[0m \u001B[0mcheck_params\u001B[0m\u001B[1;33m.\u001B[0m\u001B[0mget\u001B[0m\u001B[1;33m(\u001B[0m\u001B[1;34m\"ensure_2d\"\u001B[0m\u001B[1;33m,\u001B[0m \u001B[1;32mTrue\u001B[0m\u001B[1;33m)\u001B[0m\u001B[1;33m:\u001B[0m\u001B[1;33m\u001B[0m\u001B[1;33m\u001B[0m\u001B[0m\n",
      "\u001B[1;32m~\\anaconda3\\envs\\ML\\lib\\site-packages\\sklearn\\utils\\validation.py\u001B[0m in \u001B[0;36m?\u001B[1;34m(X, y, accept_sparse, accept_large_sparse, dtype, order, copy, force_writeable, force_all_finite, ensure_2d, allow_nd, multi_output, ensure_min_samples, ensure_min_features, y_numeric, estimator)\u001B[0m\n\u001B[0;32m   1297\u001B[0m         raise ValueError(\n\u001B[0;32m   1298\u001B[0m             \u001B[1;34mf\"{estimator_name} requires y to be passed, but the target y is None\"\u001B[0m\u001B[1;33m\u001B[0m\u001B[1;33m\u001B[0m\u001B[0m\n\u001B[0;32m   1299\u001B[0m         )\n\u001B[0;32m   1300\u001B[0m \u001B[1;33m\u001B[0m\u001B[0m\n\u001B[1;32m-> 1301\u001B[1;33m     X = check_array(\n\u001B[0m\u001B[0;32m   1302\u001B[0m         \u001B[0mX\u001B[0m\u001B[1;33m,\u001B[0m\u001B[1;33m\u001B[0m\u001B[1;33m\u001B[0m\u001B[0m\n\u001B[0;32m   1303\u001B[0m         \u001B[0maccept_sparse\u001B[0m\u001B[1;33m=\u001B[0m\u001B[0maccept_sparse\u001B[0m\u001B[1;33m,\u001B[0m\u001B[1;33m\u001B[0m\u001B[1;33m\u001B[0m\u001B[0m\n\u001B[0;32m   1304\u001B[0m         \u001B[0maccept_large_sparse\u001B[0m\u001B[1;33m=\u001B[0m\u001B[0maccept_large_sparse\u001B[0m\u001B[1;33m,\u001B[0m\u001B[1;33m\u001B[0m\u001B[1;33m\u001B[0m\u001B[0m\n",
      "\u001B[1;32m~\\anaconda3\\envs\\ML\\lib\\site-packages\\sklearn\\utils\\validation.py\u001B[0m in \u001B[0;36m?\u001B[1;34m(array, accept_sparse, accept_large_sparse, dtype, order, copy, force_writeable, force_all_finite, ensure_2d, allow_nd, ensure_min_samples, ensure_min_features, estimator, input_name)\u001B[0m\n\u001B[0;32m   1010\u001B[0m                     \u001B[0marray\u001B[0m \u001B[1;33m=\u001B[0m \u001B[0mxp\u001B[0m\u001B[1;33m.\u001B[0m\u001B[0mastype\u001B[0m\u001B[1;33m(\u001B[0m\u001B[0marray\u001B[0m\u001B[1;33m,\u001B[0m \u001B[0mdtype\u001B[0m\u001B[1;33m,\u001B[0m \u001B[0mcopy\u001B[0m\u001B[1;33m=\u001B[0m\u001B[1;32mFalse\u001B[0m\u001B[1;33m)\u001B[0m\u001B[1;33m\u001B[0m\u001B[1;33m\u001B[0m\u001B[0m\n\u001B[0;32m   1011\u001B[0m                 \u001B[1;32melse\u001B[0m\u001B[1;33m:\u001B[0m\u001B[1;33m\u001B[0m\u001B[1;33m\u001B[0m\u001B[0m\n\u001B[0;32m   1012\u001B[0m                     \u001B[0marray\u001B[0m \u001B[1;33m=\u001B[0m \u001B[0m_asarray_with_order\u001B[0m\u001B[1;33m(\u001B[0m\u001B[0marray\u001B[0m\u001B[1;33m,\u001B[0m \u001B[0morder\u001B[0m\u001B[1;33m=\u001B[0m\u001B[0morder\u001B[0m\u001B[1;33m,\u001B[0m \u001B[0mdtype\u001B[0m\u001B[1;33m=\u001B[0m\u001B[0mdtype\u001B[0m\u001B[1;33m,\u001B[0m \u001B[0mxp\u001B[0m\u001B[1;33m=\u001B[0m\u001B[0mxp\u001B[0m\u001B[1;33m)\u001B[0m\u001B[1;33m\u001B[0m\u001B[1;33m\u001B[0m\u001B[0m\n\u001B[0;32m   1013\u001B[0m             \u001B[1;32mexcept\u001B[0m \u001B[0mComplexWarning\u001B[0m \u001B[1;32mas\u001B[0m \u001B[0mcomplex_warning\u001B[0m\u001B[1;33m:\u001B[0m\u001B[1;33m\u001B[0m\u001B[1;33m\u001B[0m\u001B[0m\n\u001B[1;32m-> 1014\u001B[1;33m                 raise ValueError(\n\u001B[0m\u001B[0;32m   1015\u001B[0m                     \u001B[1;34m\"Complex data not supported\\n{}\\n\"\u001B[0m\u001B[1;33m.\u001B[0m\u001B[0mformat\u001B[0m\u001B[1;33m(\u001B[0m\u001B[0marray\u001B[0m\u001B[1;33m)\u001B[0m\u001B[1;33m\u001B[0m\u001B[1;33m\u001B[0m\u001B[0m\n\u001B[0;32m   1016\u001B[0m                 ) from complex_warning\n\u001B[0;32m   1017\u001B[0m \u001B[1;33m\u001B[0m\u001B[0m\n",
      "\u001B[1;32m~\\anaconda3\\envs\\ML\\lib\\site-packages\\sklearn\\utils\\_array_api.py\u001B[0m in \u001B[0;36m?\u001B[1;34m(array, dtype, order, copy, xp, device)\u001B[0m\n\u001B[0;32m    747\u001B[0m         \u001B[1;31m# Use NumPy API to support order\u001B[0m\u001B[1;33m\u001B[0m\u001B[1;33m\u001B[0m\u001B[1;33m\u001B[0m\u001B[0m\n\u001B[0;32m    748\u001B[0m         \u001B[1;32mif\u001B[0m \u001B[0mcopy\u001B[0m \u001B[1;32mis\u001B[0m \u001B[1;32mTrue\u001B[0m\u001B[1;33m:\u001B[0m\u001B[1;33m\u001B[0m\u001B[1;33m\u001B[0m\u001B[0m\n\u001B[0;32m    749\u001B[0m             \u001B[0marray\u001B[0m \u001B[1;33m=\u001B[0m \u001B[0mnumpy\u001B[0m\u001B[1;33m.\u001B[0m\u001B[0marray\u001B[0m\u001B[1;33m(\u001B[0m\u001B[0marray\u001B[0m\u001B[1;33m,\u001B[0m \u001B[0morder\u001B[0m\u001B[1;33m=\u001B[0m\u001B[0morder\u001B[0m\u001B[1;33m,\u001B[0m \u001B[0mdtype\u001B[0m\u001B[1;33m=\u001B[0m\u001B[0mdtype\u001B[0m\u001B[1;33m)\u001B[0m\u001B[1;33m\u001B[0m\u001B[1;33m\u001B[0m\u001B[0m\n\u001B[0;32m    750\u001B[0m         \u001B[1;32melse\u001B[0m\u001B[1;33m:\u001B[0m\u001B[1;33m\u001B[0m\u001B[1;33m\u001B[0m\u001B[0m\n\u001B[1;32m--> 751\u001B[1;33m             \u001B[0marray\u001B[0m \u001B[1;33m=\u001B[0m \u001B[0mnumpy\u001B[0m\u001B[1;33m.\u001B[0m\u001B[0masarray\u001B[0m\u001B[1;33m(\u001B[0m\u001B[0marray\u001B[0m\u001B[1;33m,\u001B[0m \u001B[0morder\u001B[0m\u001B[1;33m=\u001B[0m\u001B[0morder\u001B[0m\u001B[1;33m,\u001B[0m \u001B[0mdtype\u001B[0m\u001B[1;33m=\u001B[0m\u001B[0mdtype\u001B[0m\u001B[1;33m)\u001B[0m\u001B[1;33m\u001B[0m\u001B[1;33m\u001B[0m\u001B[0m\n\u001B[0m\u001B[0;32m    752\u001B[0m \u001B[1;33m\u001B[0m\u001B[0m\n\u001B[0;32m    753\u001B[0m         \u001B[1;31m# At this point array is a NumPy ndarray. We convert it to an array\u001B[0m\u001B[1;33m\u001B[0m\u001B[1;33m\u001B[0m\u001B[1;33m\u001B[0m\u001B[0m\n\u001B[0;32m    754\u001B[0m         \u001B[1;31m# container that is consistent with the input's namespace.\u001B[0m\u001B[1;33m\u001B[0m\u001B[1;33m\u001B[0m\u001B[1;33m\u001B[0m\u001B[0m\n",
      "\u001B[1;32m~\\anaconda3\\envs\\ML\\lib\\site-packages\\pandas\\core\\generic.py\u001B[0m in \u001B[0;36m?\u001B[1;34m(self, dtype, copy)\u001B[0m\n\u001B[0;32m   2149\u001B[0m     def __array__(\n\u001B[0;32m   2150\u001B[0m         \u001B[0mself\u001B[0m\u001B[1;33m,\u001B[0m \u001B[0mdtype\u001B[0m\u001B[1;33m:\u001B[0m \u001B[0mnpt\u001B[0m\u001B[1;33m.\u001B[0m\u001B[0mDTypeLike\u001B[0m \u001B[1;33m|\u001B[0m \u001B[1;32mNone\u001B[0m \u001B[1;33m=\u001B[0m \u001B[1;32mNone\u001B[0m\u001B[1;33m,\u001B[0m \u001B[0mcopy\u001B[0m\u001B[1;33m:\u001B[0m \u001B[0mbool_t\u001B[0m \u001B[1;33m|\u001B[0m \u001B[1;32mNone\u001B[0m \u001B[1;33m=\u001B[0m \u001B[1;32mNone\u001B[0m\u001B[1;33m\u001B[0m\u001B[1;33m\u001B[0m\u001B[0m\n\u001B[0;32m   2151\u001B[0m     ) -> np.ndarray:\n\u001B[0;32m   2152\u001B[0m         \u001B[0mvalues\u001B[0m \u001B[1;33m=\u001B[0m \u001B[0mself\u001B[0m\u001B[1;33m.\u001B[0m\u001B[0m_values\u001B[0m\u001B[1;33m\u001B[0m\u001B[1;33m\u001B[0m\u001B[0m\n\u001B[1;32m-> 2153\u001B[1;33m         \u001B[0marr\u001B[0m \u001B[1;33m=\u001B[0m \u001B[0mnp\u001B[0m\u001B[1;33m.\u001B[0m\u001B[0masarray\u001B[0m\u001B[1;33m(\u001B[0m\u001B[0mvalues\u001B[0m\u001B[1;33m,\u001B[0m \u001B[0mdtype\u001B[0m\u001B[1;33m=\u001B[0m\u001B[0mdtype\u001B[0m\u001B[1;33m)\u001B[0m\u001B[1;33m\u001B[0m\u001B[1;33m\u001B[0m\u001B[0m\n\u001B[0m\u001B[0;32m   2154\u001B[0m         if (\n\u001B[0;32m   2155\u001B[0m             \u001B[0mastype_is_view\u001B[0m\u001B[1;33m(\u001B[0m\u001B[0mvalues\u001B[0m\u001B[1;33m.\u001B[0m\u001B[0mdtype\u001B[0m\u001B[1;33m,\u001B[0m \u001B[0marr\u001B[0m\u001B[1;33m.\u001B[0m\u001B[0mdtype\u001B[0m\u001B[1;33m)\u001B[0m\u001B[1;33m\u001B[0m\u001B[1;33m\u001B[0m\u001B[0m\n\u001B[0;32m   2156\u001B[0m             \u001B[1;32mand\u001B[0m \u001B[0musing_copy_on_write\u001B[0m\u001B[1;33m(\u001B[0m\u001B[1;33m)\u001B[0m\u001B[1;33m\u001B[0m\u001B[1;33m\u001B[0m\u001B[0m\n",
      "\u001B[1;31mValueError\u001B[0m: could not convert string to float: 'negative'"
     ]
    }
   ],
   "execution_count": 11
  }
 ],
 "metadata": {
  "kernelspec": {
   "display_name": "Python 3",
   "language": "python",
   "name": "python3"
  },
  "language_info": {
   "codemirror_mode": {
    "name": "ipython",
    "version": 2
   },
   "file_extension": ".py",
   "mimetype": "text/x-python",
   "name": "python",
   "nbconvert_exporter": "python",
   "pygments_lexer": "ipython2",
   "version": "2.7.6"
  }
 },
 "nbformat": 4,
 "nbformat_minor": 5
}
