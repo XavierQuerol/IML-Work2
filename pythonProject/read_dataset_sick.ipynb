{
 "cells": [
  {
   "cell_type": "code",
   "id": "initial_id",
   "metadata": {
    "collapsed": true,
    "ExecuteTime": {
     "end_time": "2024-10-02T20:56:05.046487Z",
     "start_time": "2024-10-02T20:56:02.968331Z"
    }
   },
   "source": [
    "from scipy.io.arff import loadarff\n",
    "import pandas as pd"
   ],
   "outputs": [],
   "execution_count": 1
  },
  {
   "metadata": {},
   "cell_type": "markdown",
   "source": "#### Lectura de fichero",
   "id": "ecfcc540da49486d"
  },
  {
   "metadata": {
    "ExecuteTime": {
     "end_time": "2024-10-02T20:56:12.238211Z",
     "start_time": "2024-10-02T20:56:12.155964Z"
    }
   },
   "cell_type": "code",
   "source": [
    "df_sick_train, meta_train = loadarff('sick/sick.fold.000000.train.arff')\n",
    "df_sick_test, meta_test = loadarff('sick/sick.fold.000000.train.arff')"
   ],
   "id": "2542d04ef5d75845",
   "outputs": [],
   "execution_count": 2
  },
  {
   "metadata": {
    "ExecuteTime": {
     "end_time": "2024-10-02T20:56:13.702515Z",
     "start_time": "2024-10-02T20:56:13.642151Z"
    }
   },
   "cell_type": "code",
   "source": [
    "df_sick_train = pd.DataFrame(df_sick_train)\n",
    "df_sick_test = pd.DataFrame(df_sick_test)\n",
    "df_sick_train = df_sick_train.applymap(lambda x: x.decode('utf-8') if isinstance(x, bytes) else x)\n",
    "df_sick_test = df_sick_test.applymap(lambda x: x.decode('utf-8') if isinstance(x, bytes) else x)"
   ],
   "id": "441297c572391bf2",
   "outputs": [
    {
     "name": "stderr",
     "output_type": "stream",
     "text": [
      "C:\\Users\\girob\\AppData\\Local\\Temp\\ipykernel_21872\\2591950523.py:3: FutureWarning: DataFrame.applymap has been deprecated. Use DataFrame.map instead.\n",
      "  df_sick_train = df_sick_train.applymap(lambda x: x.decode('utf-8') if isinstance(x, bytes) else x)\n",
      "C:\\Users\\girob\\AppData\\Local\\Temp\\ipykernel_21872\\2591950523.py:4: FutureWarning: DataFrame.applymap has been deprecated. Use DataFrame.map instead.\n",
      "  df_sick_test = df_sick_test.applymap(lambda x: x.decode('utf-8') if isinstance(x, bytes) else x)\n"
     ]
    }
   ],
   "execution_count": 3
  },
  {
   "metadata": {},
   "cell_type": "markdown",
   "source": [
    "- sex tiene 3 categorías\n",
    "- las 2 de TBG fuera\n",
    "- NaNs: regresión lineal\n",
    "- Age quitar la fila con nan en Edad"
   ],
   "id": "7cfa45db332f9f05"
  },
  {
   "metadata": {},
   "cell_type": "code",
   "source": [
    "for col in df_sick_train.columns:\n",
    "    print(f'{col}: {df_sick_train[col].unique()}')"
   ],
   "id": "5e5495c7b3764f5e",
   "outputs": [],
   "execution_count": null
  },
  {
   "metadata": {},
   "cell_type": "code",
   "source": [
    "for col in df_sick_train.columns:\n",
    "    print(f'{col}: {sum(df_sick_train[col].isna())}')"
   ],
   "id": "677e8417ca60ba05",
   "outputs": [],
   "execution_count": null
  },
  {
   "metadata": {},
   "cell_type": "markdown",
   "source": "#### Min-max scaler",
   "id": "6de0af4738d9e727"
  },
  {
   "metadata": {
    "ExecuteTime": {
     "end_time": "2024-10-02T20:59:57.737585Z",
     "start_time": "2024-10-02T20:59:57.727953Z"
    }
   },
   "cell_type": "code",
   "source": [
    "from utils import min_max_scaler\n",
    "\n",
    "df_sick_train, df_sick_test = min_max_scaler(df_sick_train,df_sick_test)"
   ],
   "id": "b59d9fd4eb0b70c0",
   "outputs": [
    {
     "name": "stderr",
     "output_type": "stream",
     "text": [
      "C:\\Users\\girob\\Documents\\MAI\\IML\\Work 1\\.venv\\lib\\site-packages\\sklearn\\utils\\_array_api.py:695: RuntimeWarning: All-NaN slice encountered\n",
      "  return xp.asarray(numpy.nanmin(X, axis=axis))\n",
      "C:\\Users\\girob\\Documents\\MAI\\IML\\Work 1\\.venv\\lib\\site-packages\\sklearn\\utils\\_array_api.py:712: RuntimeWarning: All-NaN slice encountered\n",
      "  return xp.asarray(numpy.nanmax(X, axis=axis))\n"
     ]
    }
   ],
   "execution_count": 9
  },
  {
   "metadata": {
    "ExecuteTime": {
     "end_time": "2024-10-02T20:59:59.811346Z",
     "start_time": "2024-10-02T20:59:59.799614Z"
    }
   },
   "cell_type": "code",
   "source": [
    "print(df_sick_train.head())\n",
    "print(df_sick_test.head())"
   ],
   "id": "7b7bb796dfc93a5a",
   "outputs": [
    {
     "name": "stdout",
     "output_type": "stream",
     "text": [
      "        age sex on_thyroxine query_on_thyroxine on_antithyroid_medication  \\\n",
      "0  0.079295   F            t                  f                         f   \n",
      "1  0.079295   M            f                  f                         f   \n",
      "2  0.143172   F            t                  f                         f   \n",
      "3  0.171806   F            f                  f                         f   \n",
      "4  0.171806   F            f                  f                         f   \n",
      "\n",
      "  sick pregnant thyroid_surgery I131_treatment query_hypothyroid  ...  \\\n",
      "0    f        f               f              f                 f  ...   \n",
      "1    f        f               f              f                 f  ...   \n",
      "2    f        f               f              f                 f  ...   \n",
      "3    f        f               f              f                 f  ...   \n",
      "4    f        f               f              f                 f  ...   \n",
      "\n",
      "  TT4_measured       TT4 T4U_measured       T4U FTI_measured       FTI  \\\n",
      "0            t  0.359813            t  0.285024            t  0.470738   \n",
      "1            t  0.154206            t  0.333333            t  0.178117   \n",
      "2            t  0.275701            t  0.318841            t  0.330789   \n",
      "3            t  0.214953            t  0.294686            t  0.272265   \n",
      "4            t  0.207944            t  0.357488            t  0.226463   \n",
      "\n",
      "  TBG_measured  TBG referral_source     Class  \n",
      "0            f  NaN           other  negative  \n",
      "1            f  NaN           other  negative  \n",
      "2            f  NaN           other  negative  \n",
      "3            f  NaN           other      sick  \n",
      "4            f  NaN           other  negative  \n",
      "\n",
      "[5 rows x 30 columns]\n",
      "        age sex on_thyroxine query_on_thyroxine on_antithyroid_medication  \\\n",
      "0  0.079295   F            t                  f                         f   \n",
      "1  0.079295   M            f                  f                         f   \n",
      "2  0.143172   F            t                  f                         f   \n",
      "3  0.171806   F            f                  f                         f   \n",
      "4  0.171806   F            f                  f                         f   \n",
      "\n",
      "  sick pregnant thyroid_surgery I131_treatment query_hypothyroid  ...  \\\n",
      "0    f        f               f              f                 f  ...   \n",
      "1    f        f               f              f                 f  ...   \n",
      "2    f        f               f              f                 f  ...   \n",
      "3    f        f               f              f                 f  ...   \n",
      "4    f        f               f              f                 f  ...   \n",
      "\n",
      "  TT4_measured       TT4 T4U_measured       T4U FTI_measured       FTI  \\\n",
      "0            t  0.359813            t  0.285024            t  0.470738   \n",
      "1            t  0.154206            t  0.333333            t  0.178117   \n",
      "2            t  0.275701            t  0.318841            t  0.330789   \n",
      "3            t  0.214953            t  0.294686            t  0.272265   \n",
      "4            t  0.207944            t  0.357488            t  0.226463   \n",
      "\n",
      "  TBG_measured  TBG referral_source     Class  \n",
      "0            f  NaN           other  negative  \n",
      "1            f  NaN           other  negative  \n",
      "2            f  NaN           other  negative  \n",
      "3            f  NaN           other      sick  \n",
      "4            f  NaN           other  negative  \n",
      "\n",
      "[5 rows x 30 columns]\n"
     ]
    }
   ],
   "execution_count": 10
  },
  {
   "metadata": {},
   "cell_type": "markdown",
   "source": "#### Crear fichero de output",
   "id": "6418f80822206a8a"
  },
  {
   "metadata": {},
   "cell_type": "code",
   "source": "",
   "id": "877fd527324e6a2f",
   "outputs": [],
   "execution_count": null
  }
 ],
 "metadata": {
  "kernelspec": {
   "display_name": "Python 3",
   "language": "python",
   "name": "python3"
  },
  "language_info": {
   "codemirror_mode": {
    "name": "ipython",
    "version": 2
   },
   "file_extension": ".py",
   "mimetype": "text/x-python",
   "name": "python",
   "nbconvert_exporter": "python",
   "pygments_lexer": "ipython2",
   "version": "2.7.6"
  }
 },
 "nbformat": 4,
 "nbformat_minor": 5
}
