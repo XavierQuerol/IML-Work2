{
 "cells": [
  {
   "cell_type": "code",
   "id": "initial_id",
   "metadata": {
    "collapsed": true,
    "ExecuteTime": {
     "end_time": "2024-10-09T08:22:49.837606Z",
     "start_time": "2024-10-09T08:22:47.552922Z"
    }
   },
   "source": [
    "from scipy.io.arff import loadarff\n",
    "import pandas as pd"
   ],
   "outputs": [],
   "execution_count": 1
  },
  {
   "metadata": {
    "ExecuteTime": {
     "end_time": "2024-10-09T08:22:49.885194Z",
     "start_time": "2024-10-09T08:22:49.860655Z"
    }
   },
   "cell_type": "code",
   "source": [
    "df_pb_train, meta_train = loadarff('grid/grid.fold.000000.train.arff')\n",
    "df_pb_test, meta_test = loadarff('grid/grid.fold.000000.test.arff')"
   ],
   "id": "7dece523d836e2a",
   "outputs": [],
   "execution_count": 2
  },
  {
   "metadata": {
    "ExecuteTime": {
     "end_time": "2024-10-09T08:22:54.187303Z",
     "start_time": "2024-10-09T08:22:54.179786Z"
    }
   },
   "cell_type": "code",
   "source": [
    "df_pb_train = pd.DataFrame(df_pb_train)\n",
    "df_pb_test = pd.DataFrame(df_pb_test)\n",
    "df_pb_train = df_pb_train.applymap(lambda x: x.decode('utf-8') if isinstance(x, bytes) else x)\n",
    "df_pb_test = df_pb_test.applymap(lambda x: x.decode('utf-8') if isinstance(x, bytes) else x)"
   ],
   "id": "2e6e66caa88cd8d4",
   "outputs": [
    {
     "name": "stderr",
     "output_type": "stream",
     "text": [
      "C:\\Users\\girob\\AppData\\Local\\Temp\\ipykernel_19596\\3382252594.py:3: FutureWarning: DataFrame.applymap has been deprecated. Use DataFrame.map instead.\n",
      "  df_pb_train = df_pb_train.applymap(lambda x: x.decode('utf-8') if isinstance(x, bytes) else x)\n",
      "C:\\Users\\girob\\AppData\\Local\\Temp\\ipykernel_19596\\3382252594.py:4: FutureWarning: DataFrame.applymap has been deprecated. Use DataFrame.map instead.\n",
      "  df_pb_test = df_pb_test.applymap(lambda x: x.decode('utf-8') if isinstance(x, bytes) else x)\n"
     ]
    }
   ],
   "execution_count": 4
  },
  {
   "metadata": {
    "ExecuteTime": {
     "end_time": "2024-10-09T08:22:56.692592Z",
     "start_time": "2024-10-09T08:22:56.678555Z"
    }
   },
   "cell_type": "code",
   "source": "df_pb_train.head()",
   "id": "38b2e0c513327dc0",
   "outputs": [
    {
     "data": {
      "text/plain": [
       "      x     y  class\n",
       "0  1.75 -1.75  black\n",
       "1  0.75 -0.50  black\n",
       "2 -1.00 -0.75  black\n",
       "3 -1.25  4.75  white\n",
       "4  5.25 -0.75  white"
      ],
      "text/html": [
       "<div>\n",
       "<style scoped>\n",
       "    .dataframe tbody tr th:only-of-type {\n",
       "        vertical-align: middle;\n",
       "    }\n",
       "\n",
       "    .dataframe tbody tr th {\n",
       "        vertical-align: top;\n",
       "    }\n",
       "\n",
       "    .dataframe thead th {\n",
       "        text-align: right;\n",
       "    }\n",
       "</style>\n",
       "<table border=\"1\" class=\"dataframe\">\n",
       "  <thead>\n",
       "    <tr style=\"text-align: right;\">\n",
       "      <th></th>\n",
       "      <th>x</th>\n",
       "      <th>y</th>\n",
       "      <th>class</th>\n",
       "    </tr>\n",
       "  </thead>\n",
       "  <tbody>\n",
       "    <tr>\n",
       "      <th>0</th>\n",
       "      <td>1.75</td>\n",
       "      <td>-1.75</td>\n",
       "      <td>black</td>\n",
       "    </tr>\n",
       "    <tr>\n",
       "      <th>1</th>\n",
       "      <td>0.75</td>\n",
       "      <td>-0.50</td>\n",
       "      <td>black</td>\n",
       "    </tr>\n",
       "    <tr>\n",
       "      <th>2</th>\n",
       "      <td>-1.00</td>\n",
       "      <td>-0.75</td>\n",
       "      <td>black</td>\n",
       "    </tr>\n",
       "    <tr>\n",
       "      <th>3</th>\n",
       "      <td>-1.25</td>\n",
       "      <td>4.75</td>\n",
       "      <td>white</td>\n",
       "    </tr>\n",
       "    <tr>\n",
       "      <th>4</th>\n",
       "      <td>5.25</td>\n",
       "      <td>-0.75</td>\n",
       "      <td>white</td>\n",
       "    </tr>\n",
       "  </tbody>\n",
       "</table>\n",
       "</div>"
      ]
     },
     "execution_count": 5,
     "metadata": {},
     "output_type": "execute_result"
    }
   ],
   "execution_count": 5
  }
 ],
 "metadata": {
  "kernelspec": {
   "display_name": "Python 3",
   "language": "python",
   "name": "python3"
  },
  "language_info": {
   "codemirror_mode": {
    "name": "ipython",
    "version": 2
   },
   "file_extension": ".py",
   "mimetype": "text/x-python",
   "name": "python",
   "nbconvert_exporter": "python",
   "pygments_lexer": "ipython2",
   "version": "2.7.6"
  }
 },
 "nbformat": 4,
 "nbformat_minor": 5
}
